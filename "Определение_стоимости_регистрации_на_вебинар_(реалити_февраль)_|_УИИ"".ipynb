{
  "cells": [
    {
      "cell_type": "markdown",
      "metadata": {
        "id": "view-in-github",
        "colab_type": "text"
      },
      "source": [
        "<a href=\"https://colab.research.google.com/github/2web/colabs/blob/main/%22%D0%9E%D0%BF%D1%80%D0%B5%D0%B4%D0%B5%D0%BB%D0%B5%D0%BD%D0%B8%D0%B5_%D1%81%D1%82%D0%BE%D0%B8%D0%BC%D0%BE%D1%81%D1%82%D0%B8_%D1%80%D0%B5%D0%B3%D0%B8%D1%81%D1%82%D1%80%D0%B0%D1%86%D0%B8%D0%B8_%D0%BD%D0%B0_%D0%B2%D0%B5%D0%B1%D0%B8%D0%BD%D0%B0%D1%80_(%D1%80%D0%B5%D0%B0%D0%BB%D0%B8%D1%82%D0%B8_%D1%84%D0%B5%D0%B2%D1%80%D0%B0%D0%BB%D1%8C)_%7C_%D0%A3%D0%98%D0%98%22%22.ipynb\" target=\"_parent\"><img src=\"https://colab.research.google.com/assets/colab-badge.svg\" alt=\"Open In Colab\"/></a>"
      ]
    },
    {
      "cell_type": "code",
      "source": [
        "#@title Подключение библиотек\n",
        "# Подключение библиотек\n",
        "import numpy as np \n",
        "import pandas as pd \n",
        "import matplotlib.pyplot as plt\n",
        "import seaborn as sns\n",
        "\n",
        "from sklearn.preprocessing import LabelEncoder\n",
        "from tensorflow.keras.preprocessing.text import Tokenizer\n",
        "from tensorflow.keras.utils import plot_model\n",
        "from tensorflow.keras.models import Sequential\n",
        "from tensorflow.keras.layers import Input, Dense, Activation, BatchNormalization, Flatten, Conv2D, Embedding, Conv1D, SpatialDropout2D,  SpatialDropout1D\n",
        "from tensorflow.keras.layers import AveragePooling2D, MaxPooling2D, Dropout, concatenate, Bidirectional, LSTM, GlobalMaxPooling1D\n",
        "from tensorflow.keras.models import Model\n",
        "from tensorflow.keras.optimizers import Adam\n",
        "from tensorflow.keras.preprocessing.sequence import pad_sequences\n",
        "from tensorflow.keras import utils\n",
        "from sklearn.metrics import confusion_matrix, ConfusionMatrixDisplay\n",
        "\n",
        "from sklearn.preprocessing import LabelEncoder, StandardScaler\n",
        "from sklearn.model_selection import train_test_split\n",
        "import gdown\n",
        "import warnings                    # Управление предупреждениями\n",
        "warnings.filterwarnings(\"ignore\")  # 'ignore'   Никогда не печатать соответствующие предупреждения\n",
        "sns.set_style('darkgrid')\n",
        "\n",
        "class bcolors:\n",
        "    HEADER = '\\033[95m'\n",
        "    OKBLUE = '\\033[94m'\n",
        "    OKCYAN = '\\033[96m'\n",
        "    OKGREEN = '\\033[92m'\n",
        "    WARNING = '\\033[93m'\n",
        "    FAIL = '\\033[91m'\n",
        "    ENDC = '\\033[0m'\n",
        "    BOLD = '\\033[1m'\n",
        "    UNDERLINE = '\\033[4m'\n",
        "\n",
        "class Worker:\n",
        "  def __init__(self):\n",
        "    self.dsname = None\n",
        "\n",
        "  def load_dataset(self):    \n",
        "    self.dsname_train = gdown.download('https://storage.yandexcloud.net/aiueducation/temp/train_telegram.csv', None, quiet=True)\n",
        "    self.dsname_test = gdown.download('https://storage.yandexcloud.net/aiueducation/temp/test_telegram.csv', None, quiet=True)\n",
        "    print(f'Датасет загружен!\\n')\n",
        "\n",
        "  def show_dataset(self):\n",
        "    print('Обучающий датасет:')\n",
        "    self.dftrain = pd.read_csv(self.dsname_train)\n",
        "    display(self.dftrain.head())\n",
        "    print('Проверочный датасет:')\n",
        "    self.dftest = pd.read_csv(self.dsname_test)\n",
        "    display(self.dftest.head())\n",
        "\n",
        "\n",
        "  def dataset_info(self):\n",
        "    def info(ds_name, df):\n",
        "      # Статистика датасета\n",
        "      print(ds_name)\n",
        "      print(f'{bcolors.OKBLUE}Всего примеров: {bcolors.ENDC}{df.shape[0]}')\n",
        "      print(f'{bcolors.OKBLUE}\\nУникальные значения:{bcolors.ENDC}')\n",
        "      columns = list(df.columns)\n",
        "      for col in columns:\n",
        "        print(f'  {bcolors.BOLD}{col}{bcolors.ENDC}: {df[col].nunique()}')\n",
        "        print('   Пример: ', np.random.choice(df[col].values), '\\n\\n')\n",
        "    info('Обучающий датасет', self.dftrain)\n",
        "    info('Проверочный датасет', self.dftest)\n",
        "\n",
        "  def create_sets(self, max_words_count=3000, padding_length=50):\n",
        "    print(f'{bcolors.OKBLUE}Создание выборок: {bcolors.ENDC}', end='')    \n",
        "\n",
        "    VOCAB_SIZE       = max_words_count                  # Объем словаря для токенизатора\n",
        "    TRAIN_TEST_RATIO = 0.2                   # Доля проверочной выборки в основном наборе\n",
        "\n",
        "    text_data = self.dftrain.Text.astype(str).tolist()\n",
        "    text_data_test = self.dftest.Text.astype(str).tolist()\n",
        "    class_data = self.dftrain.CPL\n",
        "    class_data_test = self.dftest.CPL\n",
        "\n",
        "    # Токенизация и построение частотного словаря по обучающим текстам\n",
        "    tokenizer = Tokenizer(num_words=VOCAB_SIZE, filters='!\"#$%&()*+,-–—./…:;<=>?@[\\\\]^_`{|}~«»\\r\\t\\n\\xa0\\ufeff', lower=True, split=' ', oov_token='неизвестное_слово', char_level=False)\n",
        "    tokenizer.fit_on_texts(text_data)\n",
        "    items = list(tokenizer.word_index.items())\n",
        "\n",
        "    y = np.where(class_data >= 400, 1, 0)\n",
        "    y_test = np.where(class_data_test >= 400, 1, 0)\n",
        "\n",
        "    x_data = np.array(tokenizer.texts_to_sequences(text_data), dtype=object)\n",
        "    x_data_01 = tokenizer.texts_to_matrix(text_data)\n",
        "\n",
        "    x_data_test = np.array(tokenizer.texts_to_sequences(text_data_test), dtype=object)\n",
        "    x_data_01_test = tokenizer.texts_to_matrix(text_data_test)\n",
        "\n",
        "    #idx_train, idx_test = train_test_split(list(range(len(x_data))),\n",
        "    #                                   stratify=y,\n",
        "    #                                   test_size=TRAIN_TEST_RATIO)\n",
        "\n",
        "\n",
        "    # Разделение в соответствии с полученными индексами\n",
        "    self.x_trainE, self.x_testE = x_data, x_data_test\n",
        "    self.x_tBOW, self.x_testBOW = x_data_01, x_data_01_test\n",
        "    self.y_train, self.y_val = y, y_test\n",
        "\n",
        "    max_len = padding_length\n",
        "    self.x_trainE = pad_sequences(self.x_trainE, maxlen=max_len, padding='post')\n",
        "    self.x_testE = pad_sequences(self.x_testE, maxlen=max_len, padding='post')\n",
        "\n",
        "    \n",
        "    print(f'{bcolors.OKGREEN}Done\\n{bcolors.ENDC}Размеры:')\n",
        "    print('Для выборки BoW')\n",
        "    print(f'x_train: {self.x_tBOW.shape}')\n",
        "    print(f'x_val: {self.x_testBOW.shape}')\n",
        "    print('\\nДля выборки Embedding')\n",
        "    print(f'x_train: {self.x_trainE.shape}')\n",
        "    print(f'x_val: {self.x_testE.shape}')\n",
        "    print('\\nВыборка y_train')\n",
        "    print(f'y_train: {self.y_train.shape}')\n",
        "    print(f'y_val: {self.y_val.shape}')\n",
        "\n",
        "\n",
        "  def ShowConfusionMatrix(model, x_test, y_test):\n",
        "    pred = model.predict(x_test, verbose=0)\n",
        "    y_pred = [1 * (x[0]>=0.5) for x in pred]\n",
        "    cm = confusion_matrix(y_test,\n",
        "                          y_pred,\n",
        "                          normalize='true')\n",
        "\n",
        "    # Отрисовка матрицы ошибок\n",
        "    fig, ax = plt.subplots(figsize=(10, 10))\n",
        "    ax.set_title(f'матрица ошибок', fontsize=18)\n",
        "    disp = ConfusionMatrixDisplay(confusion_matrix=cm, display_labels=['<400 руб', '>400 руб'])\n",
        "    disp.plot(ax=ax)\n",
        "    plt.gca().images[-1].colorbar.remove()  # Стирание ненужной цветовой шкалы\n",
        "    plt.xlabel('Предсказанные классы', fontsize=16)\n",
        "    plt.ylabel('Верные классы', fontsize=16)\n",
        "    plt.grid(False)\n",
        "    fig.autofmt_xdate(rotation=45)          # Наклон меток горизонтальной оси при необходимости\n",
        "    plt.show()    \n",
        "\n",
        "  def show_learning_information(self, history):\n",
        "    print('График обучения:')\n",
        "    # Создание полотна для рисунка\n",
        "    plt.figure(figsize=(12, 8))\n",
        "\n",
        "    # Отрисовка графиков 'accuracy' и 'val_accuracy' из значений словаря store_learning.history\n",
        "    plt.plot(history.history['accuracy'], \n",
        "            label='Доля верных ответов на обучающем наборе')\n",
        "    plt.plot(history.history['val_accuracy'], \n",
        "            label='Доля верных ответов на проверочном наборе')\n",
        "\n",
        "    # Фиксация графиков и рисование всей картинки\n",
        "    plt.show()\n",
        "    print(f'Максимальная точность на обучающей выборке: {round(np.array(history.history[\"accuracy\"]).max(), 3)}')\n",
        "    print(f'Максимальная точность на проверочной выборке: {round(np.array(history.history[\"val_accuracy\"]).max(), 3)}')\n",
        "\n",
        "\n",
        "\n",
        "  def train_model(self, funcModel, count,\n",
        "                  train_data,\n",
        "                  test_data):\n",
        "    # Обучение модели сверточной нейронной сети подготовленных данных\n",
        "    cnt = count\n",
        "    history_accuracy = []\n",
        "    history_val_accuracy = []\n",
        "    for i in range(cnt):\n",
        "      model = funcModel()      \n",
        "      store_learning = model.fit(train_data,\n",
        "                                self.y_train,\n",
        "                                validation_data=(test_data, self.y_val),\n",
        "                                shuffle=True,\n",
        "                                batch_size=25,\n",
        "                                epochs=50, \n",
        "                                verbose=0)\n",
        "      history_accuracy.append(store_learning.history['accuracy'])\n",
        "      history_val_accuracy.append(store_learning.history['val_accuracy'])\n",
        "\n",
        "      print(f'{bcolors.BOLD}{bcolors.OKBLUE}Обучение №{i+1} завершено. Результаты{bcolors.ENDC}')\n",
        "      print(f'Максимальная точность на обучающей выборке: {round(np.array(store_learning.history[\"accuracy\"]).max(), 3)}')\n",
        "      print(f'Максимальная точность на проверочной выборке: {round(np.array(store_learning.history[\"val_accuracy\"]).max(), 3)}')\n",
        "      \n",
        "      print('\\n'*3)\n",
        "    print(f'{bcolors.BOLD}###############################################################################{bcolors.ENDC}')\n",
        "    print(f'{bcolors.HEADER} Финальные результаты{bcolors.ENDC}')\n",
        "    print(f'Средняя точность на обучающей выборке: {round(np.array(history_accuracy).max(axis=1).mean(), 3)}')\n",
        "    print(f'Максимальная точность на обучающей выборке: {round(np.array(history_accuracy).max(), 3)}')\n",
        "    print(f'Средняя точность на проверочной выборке: {round(np.array(history_val_accuracy).max(axis=1).mean(), 3)}')\n",
        "    print(f'Максимальная точность на проверочной выборке: {round(np.array(history_val_accuracy).max(), 3)}')\n",
        "\n",
        "worker=Worker()"
      ],
      "metadata": {
        "id": "ozFx6BaZKEj_",
        "cellView": "form"
      },
      "execution_count": null,
      "outputs": []
    },
    {
      "cell_type": "code",
      "execution_count": null,
      "metadata": {
        "id": "h4jO1ZGDvMjK",
        "colab": {
          "base_uri": "https://localhost:8080/"
        },
        "outputId": "18125ddd-f2e8-44fe-d2ba-0b428f7ca99b"
      },
      "outputs": [
        {
          "output_type": "stream",
          "name": "stdout",
          "text": [
            "Датасет загружен!\n",
            "\n"
          ]
        }
      ],
      "source": [
        "# Загрузка датасета\n",
        "worker.load_dataset()"
      ]
    },
    {
      "cell_type": "code",
      "execution_count": null,
      "metadata": {
        "colab": {
          "base_uri": "https://localhost:8080/",
          "height": 430
        },
        "id": "3OvcFMwpvqFx",
        "outputId": "8ff7b878-8c2c-4d40-ed89-cb5a826d0be9"
      },
      "outputs": [
        {
          "output_type": "stream",
          "name": "stdout",
          "text": [
            "Обучающий датасет:\n"
          ]
        },
        {
          "output_type": "display_data",
          "data": {
            "text/plain": [
              "                  Телеграм каналы  \\\n",
              "0  https://t.me/+zDhKBeT2h7E0MzYy   \n",
              "1  https://t.me/+zDhKBeT2h7E0MzYy   \n",
              "2  https://t.me/+zDhKBeT2h7E0MzYy   \n",
              "3  https://t.me/+zDhKBeT2h7E0MzYy   \n",
              "4  https://t.me/+zDhKBeT2h7E0MzYy   \n",
              "\n",
              "                                                Text  \\\n",
              "0  При помощи данной книги вы сможете начать свою...   \n",
              "1  Благодаря этой книге тысячи пользователей овла...   \n",
              "2  Методы управления данными и их интеграции быст...   \n",
              "3  Второе издание мирового бестселлера адресовано...   \n",
              "4  Эта книга адресована тем, кто только начинает ...   \n",
              "\n",
              "                                                Link    CPL  \n",
              "0  https://drive.google.com/file/d/1bUNiDQ-tro8AV...  414.0  \n",
              "1  https://drive.google.com/file/d/1n18kqYlUPhvyG...  414.0  \n",
              "2  https://drive.google.com/file/d/1ENTyekvVdj-Uy...  414.0  \n",
              "3  https://drive.google.com/file/d/14zSBW48N-vqEL...  414.0  \n",
              "4  https://drive.google.com/file/d/12V5zpKryxHD1z...  414.0  "
            ],
            "text/html": [
              "\n",
              "  <div id=\"df-5f960c0b-6783-4bfd-b916-8e539151faf4\">\n",
              "    <div class=\"colab-df-container\">\n",
              "      <div>\n",
              "<style scoped>\n",
              "    .dataframe tbody tr th:only-of-type {\n",
              "        vertical-align: middle;\n",
              "    }\n",
              "\n",
              "    .dataframe tbody tr th {\n",
              "        vertical-align: top;\n",
              "    }\n",
              "\n",
              "    .dataframe thead th {\n",
              "        text-align: right;\n",
              "    }\n",
              "</style>\n",
              "<table border=\"1\" class=\"dataframe\">\n",
              "  <thead>\n",
              "    <tr style=\"text-align: right;\">\n",
              "      <th></th>\n",
              "      <th>Телеграм каналы</th>\n",
              "      <th>Text</th>\n",
              "      <th>Link</th>\n",
              "      <th>CPL</th>\n",
              "    </tr>\n",
              "  </thead>\n",
              "  <tbody>\n",
              "    <tr>\n",
              "      <th>0</th>\n",
              "      <td>https://t.me/+zDhKBeT2h7E0MzYy</td>\n",
              "      <td>При помощи данной книги вы сможете начать свою...</td>\n",
              "      <td>https://drive.google.com/file/d/1bUNiDQ-tro8AV...</td>\n",
              "      <td>414.0</td>\n",
              "    </tr>\n",
              "    <tr>\n",
              "      <th>1</th>\n",
              "      <td>https://t.me/+zDhKBeT2h7E0MzYy</td>\n",
              "      <td>Благодаря этой книге тысячи пользователей овла...</td>\n",
              "      <td>https://drive.google.com/file/d/1n18kqYlUPhvyG...</td>\n",
              "      <td>414.0</td>\n",
              "    </tr>\n",
              "    <tr>\n",
              "      <th>2</th>\n",
              "      <td>https://t.me/+zDhKBeT2h7E0MzYy</td>\n",
              "      <td>Методы управления данными и их интеграции быст...</td>\n",
              "      <td>https://drive.google.com/file/d/1ENTyekvVdj-Uy...</td>\n",
              "      <td>414.0</td>\n",
              "    </tr>\n",
              "    <tr>\n",
              "      <th>3</th>\n",
              "      <td>https://t.me/+zDhKBeT2h7E0MzYy</td>\n",
              "      <td>Второе издание мирового бестселлера адресовано...</td>\n",
              "      <td>https://drive.google.com/file/d/14zSBW48N-vqEL...</td>\n",
              "      <td>414.0</td>\n",
              "    </tr>\n",
              "    <tr>\n",
              "      <th>4</th>\n",
              "      <td>https://t.me/+zDhKBeT2h7E0MzYy</td>\n",
              "      <td>Эта книга адресована тем, кто только начинает ...</td>\n",
              "      <td>https://drive.google.com/file/d/12V5zpKryxHD1z...</td>\n",
              "      <td>414.0</td>\n",
              "    </tr>\n",
              "  </tbody>\n",
              "</table>\n",
              "</div>\n",
              "      <button class=\"colab-df-convert\" onclick=\"convertToInteractive('df-5f960c0b-6783-4bfd-b916-8e539151faf4')\"\n",
              "              title=\"Convert this dataframe to an interactive table.\"\n",
              "              style=\"display:none;\">\n",
              "        \n",
              "  <svg xmlns=\"http://www.w3.org/2000/svg\" height=\"24px\"viewBox=\"0 0 24 24\"\n",
              "       width=\"24px\">\n",
              "    <path d=\"M0 0h24v24H0V0z\" fill=\"none\"/>\n",
              "    <path d=\"M18.56 5.44l.94 2.06.94-2.06 2.06-.94-2.06-.94-.94-2.06-.94 2.06-2.06.94zm-11 1L8.5 8.5l.94-2.06 2.06-.94-2.06-.94L8.5 2.5l-.94 2.06-2.06.94zm10 10l.94 2.06.94-2.06 2.06-.94-2.06-.94-.94-2.06-.94 2.06-2.06.94z\"/><path d=\"M17.41 7.96l-1.37-1.37c-.4-.4-.92-.59-1.43-.59-.52 0-1.04.2-1.43.59L10.3 9.45l-7.72 7.72c-.78.78-.78 2.05 0 2.83L4 21.41c.39.39.9.59 1.41.59.51 0 1.02-.2 1.41-.59l7.78-7.78 2.81-2.81c.8-.78.8-2.07 0-2.86zM5.41 20L4 18.59l7.72-7.72 1.47 1.35L5.41 20z\"/>\n",
              "  </svg>\n",
              "      </button>\n",
              "      \n",
              "  <style>\n",
              "    .colab-df-container {\n",
              "      display:flex;\n",
              "      flex-wrap:wrap;\n",
              "      gap: 12px;\n",
              "    }\n",
              "\n",
              "    .colab-df-convert {\n",
              "      background-color: #E8F0FE;\n",
              "      border: none;\n",
              "      border-radius: 50%;\n",
              "      cursor: pointer;\n",
              "      display: none;\n",
              "      fill: #1967D2;\n",
              "      height: 32px;\n",
              "      padding: 0 0 0 0;\n",
              "      width: 32px;\n",
              "    }\n",
              "\n",
              "    .colab-df-convert:hover {\n",
              "      background-color: #E2EBFA;\n",
              "      box-shadow: 0px 1px 2px rgba(60, 64, 67, 0.3), 0px 1px 3px 1px rgba(60, 64, 67, 0.15);\n",
              "      fill: #174EA6;\n",
              "    }\n",
              "\n",
              "    [theme=dark] .colab-df-convert {\n",
              "      background-color: #3B4455;\n",
              "      fill: #D2E3FC;\n",
              "    }\n",
              "\n",
              "    [theme=dark] .colab-df-convert:hover {\n",
              "      background-color: #434B5C;\n",
              "      box-shadow: 0px 1px 3px 1px rgba(0, 0, 0, 0.15);\n",
              "      filter: drop-shadow(0px 1px 2px rgba(0, 0, 0, 0.3));\n",
              "      fill: #FFFFFF;\n",
              "    }\n",
              "  </style>\n",
              "\n",
              "      <script>\n",
              "        const buttonEl =\n",
              "          document.querySelector('#df-5f960c0b-6783-4bfd-b916-8e539151faf4 button.colab-df-convert');\n",
              "        buttonEl.style.display =\n",
              "          google.colab.kernel.accessAllowed ? 'block' : 'none';\n",
              "\n",
              "        async function convertToInteractive(key) {\n",
              "          const element = document.querySelector('#df-5f960c0b-6783-4bfd-b916-8e539151faf4');\n",
              "          const dataTable =\n",
              "            await google.colab.kernel.invokeFunction('convertToInteractive',\n",
              "                                                     [key], {});\n",
              "          if (!dataTable) return;\n",
              "\n",
              "          const docLinkHtml = 'Like what you see? Visit the ' +\n",
              "            '<a target=\"_blank\" href=https://colab.research.google.com/notebooks/data_table.ipynb>data table notebook</a>'\n",
              "            + ' to learn more about interactive tables.';\n",
              "          element.innerHTML = '';\n",
              "          dataTable['output_type'] = 'display_data';\n",
              "          await google.colab.output.renderOutput(dataTable, element);\n",
              "          const docLink = document.createElement('div');\n",
              "          docLink.innerHTML = docLinkHtml;\n",
              "          element.appendChild(docLink);\n",
              "        }\n",
              "      </script>\n",
              "    </div>\n",
              "  </div>\n",
              "  "
            ]
          },
          "metadata": {}
        },
        {
          "output_type": "stream",
          "name": "stdout",
          "text": [
            "Проверочный датасет:\n"
          ]
        },
        {
          "output_type": "display_data",
          "data": {
            "text/plain": [
              "           Телеграм каналы                                               Text  \\\n",
              "0  https://t.me/job_python  software engineer (junior)\\n#гибрид #офис #пол...   \n",
              "1  https://t.me/job_python  Backend разработчик (middle)\\n#удаленка #полны...   \n",
              "2  https://t.me/job_python  Python developer (middle)\\n#удаленка #офис #по...   \n",
              "3  https://t.me/job_python  Python разработчик\\n\\nЧто предлагаем: \\n- Полн...   \n",
              "4  https://t.me/job_python  Вчера прошел вебинар на тему \"Как программисту...   \n",
              "\n",
              "                                                Link   CPL  \n",
              "0                                                NaN  1794  \n",
              "1                                                NaN  1794  \n",
              "2                                                NaN  1794  \n",
              "3                                                NaN  1794  \n",
              "4  https://drive.google.com/file/d/10cXwDKPqI-laJ...  1794  "
            ],
            "text/html": [
              "\n",
              "  <div id=\"df-58fec17a-7647-4a86-b73f-2bc1f06a594a\">\n",
              "    <div class=\"colab-df-container\">\n",
              "      <div>\n",
              "<style scoped>\n",
              "    .dataframe tbody tr th:only-of-type {\n",
              "        vertical-align: middle;\n",
              "    }\n",
              "\n",
              "    .dataframe tbody tr th {\n",
              "        vertical-align: top;\n",
              "    }\n",
              "\n",
              "    .dataframe thead th {\n",
              "        text-align: right;\n",
              "    }\n",
              "</style>\n",
              "<table border=\"1\" class=\"dataframe\">\n",
              "  <thead>\n",
              "    <tr style=\"text-align: right;\">\n",
              "      <th></th>\n",
              "      <th>Телеграм каналы</th>\n",
              "      <th>Text</th>\n",
              "      <th>Link</th>\n",
              "      <th>CPL</th>\n",
              "    </tr>\n",
              "  </thead>\n",
              "  <tbody>\n",
              "    <tr>\n",
              "      <th>0</th>\n",
              "      <td>https://t.me/job_python</td>\n",
              "      <td>software engineer (junior)\\n#гибрид #офис #пол...</td>\n",
              "      <td>NaN</td>\n",
              "      <td>1794</td>\n",
              "    </tr>\n",
              "    <tr>\n",
              "      <th>1</th>\n",
              "      <td>https://t.me/job_python</td>\n",
              "      <td>Backend разработчик (middle)\\n#удаленка #полны...</td>\n",
              "      <td>NaN</td>\n",
              "      <td>1794</td>\n",
              "    </tr>\n",
              "    <tr>\n",
              "      <th>2</th>\n",
              "      <td>https://t.me/job_python</td>\n",
              "      <td>Python developer (middle)\\n#удаленка #офис #по...</td>\n",
              "      <td>NaN</td>\n",
              "      <td>1794</td>\n",
              "    </tr>\n",
              "    <tr>\n",
              "      <th>3</th>\n",
              "      <td>https://t.me/job_python</td>\n",
              "      <td>Python разработчик\\n\\nЧто предлагаем: \\n- Полн...</td>\n",
              "      <td>NaN</td>\n",
              "      <td>1794</td>\n",
              "    </tr>\n",
              "    <tr>\n",
              "      <th>4</th>\n",
              "      <td>https://t.me/job_python</td>\n",
              "      <td>Вчера прошел вебинар на тему \"Как программисту...</td>\n",
              "      <td>https://drive.google.com/file/d/10cXwDKPqI-laJ...</td>\n",
              "      <td>1794</td>\n",
              "    </tr>\n",
              "  </tbody>\n",
              "</table>\n",
              "</div>\n",
              "      <button class=\"colab-df-convert\" onclick=\"convertToInteractive('df-58fec17a-7647-4a86-b73f-2bc1f06a594a')\"\n",
              "              title=\"Convert this dataframe to an interactive table.\"\n",
              "              style=\"display:none;\">\n",
              "        \n",
              "  <svg xmlns=\"http://www.w3.org/2000/svg\" height=\"24px\"viewBox=\"0 0 24 24\"\n",
              "       width=\"24px\">\n",
              "    <path d=\"M0 0h24v24H0V0z\" fill=\"none\"/>\n",
              "    <path d=\"M18.56 5.44l.94 2.06.94-2.06 2.06-.94-2.06-.94-.94-2.06-.94 2.06-2.06.94zm-11 1L8.5 8.5l.94-2.06 2.06-.94-2.06-.94L8.5 2.5l-.94 2.06-2.06.94zm10 10l.94 2.06.94-2.06 2.06-.94-2.06-.94-.94-2.06-.94 2.06-2.06.94z\"/><path d=\"M17.41 7.96l-1.37-1.37c-.4-.4-.92-.59-1.43-.59-.52 0-1.04.2-1.43.59L10.3 9.45l-7.72 7.72c-.78.78-.78 2.05 0 2.83L4 21.41c.39.39.9.59 1.41.59.51 0 1.02-.2 1.41-.59l7.78-7.78 2.81-2.81c.8-.78.8-2.07 0-2.86zM5.41 20L4 18.59l7.72-7.72 1.47 1.35L5.41 20z\"/>\n",
              "  </svg>\n",
              "      </button>\n",
              "      \n",
              "  <style>\n",
              "    .colab-df-container {\n",
              "      display:flex;\n",
              "      flex-wrap:wrap;\n",
              "      gap: 12px;\n",
              "    }\n",
              "\n",
              "    .colab-df-convert {\n",
              "      background-color: #E8F0FE;\n",
              "      border: none;\n",
              "      border-radius: 50%;\n",
              "      cursor: pointer;\n",
              "      display: none;\n",
              "      fill: #1967D2;\n",
              "      height: 32px;\n",
              "      padding: 0 0 0 0;\n",
              "      width: 32px;\n",
              "    }\n",
              "\n",
              "    .colab-df-convert:hover {\n",
              "      background-color: #E2EBFA;\n",
              "      box-shadow: 0px 1px 2px rgba(60, 64, 67, 0.3), 0px 1px 3px 1px rgba(60, 64, 67, 0.15);\n",
              "      fill: #174EA6;\n",
              "    }\n",
              "\n",
              "    [theme=dark] .colab-df-convert {\n",
              "      background-color: #3B4455;\n",
              "      fill: #D2E3FC;\n",
              "    }\n",
              "\n",
              "    [theme=dark] .colab-df-convert:hover {\n",
              "      background-color: #434B5C;\n",
              "      box-shadow: 0px 1px 3px 1px rgba(0, 0, 0, 0.15);\n",
              "      filter: drop-shadow(0px 1px 2px rgba(0, 0, 0, 0.3));\n",
              "      fill: #FFFFFF;\n",
              "    }\n",
              "  </style>\n",
              "\n",
              "      <script>\n",
              "        const buttonEl =\n",
              "          document.querySelector('#df-58fec17a-7647-4a86-b73f-2bc1f06a594a button.colab-df-convert');\n",
              "        buttonEl.style.display =\n",
              "          google.colab.kernel.accessAllowed ? 'block' : 'none';\n",
              "\n",
              "        async function convertToInteractive(key) {\n",
              "          const element = document.querySelector('#df-58fec17a-7647-4a86-b73f-2bc1f06a594a');\n",
              "          const dataTable =\n",
              "            await google.colab.kernel.invokeFunction('convertToInteractive',\n",
              "                                                     [key], {});\n",
              "          if (!dataTable) return;\n",
              "\n",
              "          const docLinkHtml = 'Like what you see? Visit the ' +\n",
              "            '<a target=\"_blank\" href=https://colab.research.google.com/notebooks/data_table.ipynb>data table notebook</a>'\n",
              "            + ' to learn more about interactive tables.';\n",
              "          element.innerHTML = '';\n",
              "          dataTable['output_type'] = 'display_data';\n",
              "          await google.colab.output.renderOutput(dataTable, element);\n",
              "          const docLink = document.createElement('div');\n",
              "          docLink.innerHTML = docLinkHtml;\n",
              "          element.appendChild(docLink);\n",
              "        }\n",
              "      </script>\n",
              "    </div>\n",
              "  </div>\n",
              "  "
            ]
          },
          "metadata": {}
        }
      ],
      "source": [
        "# Вывод датасетов\n",
        "worker.show_dataset()"
      ]
    },
    {
      "cell_type": "code",
      "execution_count": null,
      "metadata": {
        "colab": {
          "base_uri": "https://localhost:8080/"
        },
        "id": "ih1UriVVvrcp",
        "outputId": "d38f267d-215f-435d-d04a-8cbe72c50d07"
      },
      "outputs": [
        {
          "output_type": "stream",
          "name": "stdout",
          "text": [
            "Обучающий датасет\n",
            "\u001b[94mВсего примеров: \u001b[0m1976\n",
            "\u001b[94m\n",
            "Уникальные значения:\u001b[0m\n",
            "  \u001b[1mТелеграм каналы\u001b[0m: 158\n",
            "   Пример:  https://t.me/ArtificialIntelligencedl \n",
            "\n",
            "\n",
            "  \u001b[1mText\u001b[0m: 1793\n",
            "   Пример:  Закалка типографией\n",
            "\n",
            "С цифровыми текстами редактору сложно бывает почувствовать объём внимания. Вот этот пост прочитает около 1 500 человек, но сколько это? Много, мало? Всё, что больше какого-то порога, начинает восприниматься одинаково.\n",
            "\n",
            "А вот в печатке сразу чувствуешь, зачем было столько пота. Думаю, каждому редактору полезно хоть раз увидеть, как его работу печатают в типографии, пускай и небольшим тиражом. Что-то вроде закалки.\n",
            "\n",
            "На видео: в типографии Марки (https://www.markiprint.ru/) печатают конверты для карты QIWI, которые я помогал делать. \n",
            "\n",
            "\n",
            "  \u001b[1mLink\u001b[0m: 1609\n",
            "   Пример:  https://drive.google.com/file/d/1-eVOMx40qSNIHOPrWrT_khb0yZMi-VVD/view?usp=share_link \n",
            "\n",
            "\n",
            "  \u001b[1mCPL\u001b[0m: 130\n",
            "   Пример:  413.0 \n",
            "\n",
            "\n",
            "Проверочный датасет\n",
            "\u001b[94mВсего примеров: \u001b[0m370\n",
            "\u001b[94m\n",
            "Уникальные значения:\u001b[0m\n",
            "  \u001b[1mТелеграм каналы\u001b[0m: 26\n",
            "   Пример:  https://telegram.me/hlfiles \n",
            "\n",
            "\n",
            "  \u001b[1mText\u001b[0m: 349\n",
            "   Пример:  Software Engineer (middle)\n",
            "#удаленка #гибкийграфик \n",
            "З/П от 160 000 ₽\n",
            "\n",
            "Мы Elastoo Products  (http://elastoo.com/)небольшая распределенная команда, которая занимается интересными, нестандартными и перспективными проектами в сфере финансовых технологий, социальных данных и рекомендательных систем\n",
            "\n",
            "Задачи:\n",
            "- Взаимодействовать с командой разработчиков\n",
            "- Разработка новых проектов (в основном используем асинхронные микрофреймворки)\n",
            "- Вносить свой вклад в развитие проектов\n",
            "- Постоянно обучаться и совершенствоваться\n",
            "\n",
            "Требования:\n",
            "- Опыт коммерческой разработки не менее 3 лет\n",
            "- Готовность продемонстрировать предыдущий опыт (репозитории, документация)\n",
            "- Уверенный опыт с одним из перечисленных фреймворков aiohttp/FastAPI/Django\n",
            "- Отличное знание современных подходов в разработке на Python 3.X\n",
            "- Уверенные знания по взаимодействию с SQL/MongoDB\n",
            "- Опыт построения и поддержки REST API\n",
            "- Отличное понимание алгоритмов и структур данных\n",
            "- Владение инструментами контроля версий и практиками совместной работы с кодом (git, Gitlab)\n",
            "- Уверенное владение инструментами контейнеризации и CI для разворота окружений\n",
            "- Желание работать в команде\n",
            "\n",
            "Большим плюсом будет:\n",
            "- Опыт разработки сложной архитектуры\n",
            "- Наличие базовых навыков работы в команде\n",
            "- Понимание frontend технологий и их взаимодействие с API\n",
            "- Умение перенимать чужой опыт и делиться своим с коллегами\n",
            "- Docker/Docker-Compose, Celery, RabbitMQ\n",
            "- Интерес или умение работы с ML фреймворками PyTorch и TensorFlow\n",
            "- Взаимодействие и сбор данных со сторонних API систем\n",
            "- web3 работа с функциями смарт-контрактов\n",
            "\n",
            "#вакансия #IT #devs #developer #django #python #sql #middle \n",
            "\n",
            "\n",
            "  \u001b[1mLink\u001b[0m: 201\n",
            "   Пример:  nan \n",
            "\n",
            "\n",
            "  \u001b[1mCPL\u001b[0m: 25\n",
            "   Пример:  1794 \n",
            "\n",
            "\n"
          ]
        }
      ],
      "source": [
        "# Информация о датасетах\n",
        "worker.dataset_info()"
      ]
    },
    {
      "cell_type": "code",
      "source": [
        "max_words_count = 3000  # Размер BagOfWords\n",
        "padding_length = 50     # Максимальная длина отзыва\n",
        "\n",
        "# Создание выборок\n",
        "worker.create_sets(\n",
        "    max_words_count,\n",
        "    padding_length,\n",
        "    )"
      ],
      "metadata": {
        "colab": {
          "base_uri": "https://localhost:8080/"
        },
        "id": "HugtdiPyyY00",
        "outputId": "0d087f96-3933-45f6-9b07-4e42072742f1"
      },
      "execution_count": null,
      "outputs": [
        {
          "output_type": "stream",
          "name": "stdout",
          "text": [
            "\u001b[94mСоздание выборок: \u001b[0m\u001b[92mDone\n",
            "\u001b[0mРазмеры:\n",
            "Для выборки BoW\n",
            "x_train: (1976, 3000)\n",
            "x_val: (370, 3000)\n",
            "\n",
            "Для выборки Embedding\n",
            "x_train: (1976, 50)\n",
            "x_val: (370, 50)\n",
            "\n",
            "Выборка y_train\n",
            "y_train: (1976,)\n",
            "y_val: (370,)\n"
          ]
        }
      ]
    },
    {
      "cell_type": "markdown",
      "source": [
        "<h1><b> Эксперименты</b></h1>"
      ],
      "metadata": {
        "id": "-buj5OBCO_3c"
      }
    },
    {
      "cell_type": "markdown",
      "source": [
        "### **Эксп. №1 (59.5%)**"
      ],
      "metadata": {
        "id": "cqvDOUOimfzk"
      }
    },
    {
      "cell_type": "code",
      "execution_count": null,
      "metadata": {
        "id": "24oXQzUdmfzw"
      },
      "outputs": [],
      "source": [
        "def create_model():\n",
        "  # Последовательная модель\n",
        "  model = Sequential()\n",
        "  # Входной полносвязный слой\n",
        "  model.add(Dense(32, input_dim=max_words_count, activation=\"relu\"))\n",
        "  # Второй полносвязный слой\n",
        "  model.add(Dense(1, activation='sigmoid'))\n",
        "\n",
        "  model.compile(optimizer=Adam(1e-4), \n",
        "                    loss='binary_crossentropy', \n",
        "                    metrics=['accuracy'])\n",
        "  # Компиляция модели\n",
        "  return model\n",
        "\n",
        "model = create_model()"
      ]
    },
    {
      "cell_type": "code",
      "execution_count": null,
      "metadata": {
        "colab": {
          "base_uri": "https://localhost:8080/"
        },
        "id": "HDdFf2cFmfzx",
        "outputId": "9fcdb293-265d-42db-e544-35b06fc28615"
      },
      "outputs": [
        {
          "output_type": "stream",
          "name": "stdout",
          "text": [
            "Epoch 1/50\n",
            "80/80 [==============================] - 5s 9ms/step - loss: 0.6851 - accuracy: 0.5865 - val_loss: 0.6791 - val_accuracy: 0.6000\n",
            "Epoch 2/50\n",
            "80/80 [==============================] - 0s 5ms/step - loss: 0.6652 - accuracy: 0.6508 - val_loss: 0.6740 - val_accuracy: 0.6081\n",
            "Epoch 3/50\n",
            "80/80 [==============================] - 0s 4ms/step - loss: 0.6445 - accuracy: 0.6832 - val_loss: 0.6747 - val_accuracy: 0.5838\n",
            "Epoch 4/50\n",
            "80/80 [==============================] - 0s 4ms/step - loss: 0.6220 - accuracy: 0.7156 - val_loss: 0.6779 - val_accuracy: 0.5676\n",
            "Epoch 5/50\n",
            "80/80 [==============================] - 0s 4ms/step - loss: 0.5979 - accuracy: 0.7677 - val_loss: 0.6834 - val_accuracy: 0.5405\n",
            "Epoch 6/50\n",
            "80/80 [==============================] - 0s 4ms/step - loss: 0.5721 - accuracy: 0.7859 - val_loss: 0.6941 - val_accuracy: 0.5135\n",
            "Epoch 7/50\n",
            "80/80 [==============================] - 0s 4ms/step - loss: 0.5459 - accuracy: 0.8148 - val_loss: 0.7100 - val_accuracy: 0.4946\n",
            "Epoch 8/50\n",
            "80/80 [==============================] - 0s 4ms/step - loss: 0.5203 - accuracy: 0.8295 - val_loss: 0.7307 - val_accuracy: 0.4622\n",
            "Epoch 9/50\n",
            "80/80 [==============================] - 0s 4ms/step - loss: 0.4958 - accuracy: 0.8416 - val_loss: 0.7449 - val_accuracy: 0.4432\n",
            "Epoch 10/50\n",
            "80/80 [==============================] - 0s 4ms/step - loss: 0.4726 - accuracy: 0.8497 - val_loss: 0.7604 - val_accuracy: 0.4568\n",
            "Epoch 11/50\n",
            "80/80 [==============================] - 0s 4ms/step - loss: 0.4507 - accuracy: 0.8613 - val_loss: 0.7741 - val_accuracy: 0.4568\n",
            "Epoch 12/50\n",
            "80/80 [==============================] - 0s 4ms/step - loss: 0.4302 - accuracy: 0.8649 - val_loss: 0.7907 - val_accuracy: 0.4541\n",
            "Epoch 13/50\n",
            "80/80 [==============================] - 0s 4ms/step - loss: 0.4113 - accuracy: 0.8770 - val_loss: 0.8101 - val_accuracy: 0.4568\n",
            "Epoch 14/50\n",
            "80/80 [==============================] - 0s 4ms/step - loss: 0.3935 - accuracy: 0.8775 - val_loss: 0.8179 - val_accuracy: 0.4568\n",
            "Epoch 15/50\n",
            "80/80 [==============================] - 0s 4ms/step - loss: 0.3770 - accuracy: 0.8892 - val_loss: 0.8315 - val_accuracy: 0.4595\n",
            "Epoch 16/50\n",
            "80/80 [==============================] - 0s 4ms/step - loss: 0.3618 - accuracy: 0.8932 - val_loss: 0.8489 - val_accuracy: 0.4568\n",
            "Epoch 17/50\n",
            "80/80 [==============================] - 0s 4ms/step - loss: 0.3478 - accuracy: 0.8947 - val_loss: 0.8705 - val_accuracy: 0.4486\n",
            "Epoch 18/50\n",
            "80/80 [==============================] - 0s 4ms/step - loss: 0.3345 - accuracy: 0.9018 - val_loss: 0.8826 - val_accuracy: 0.4514\n",
            "Epoch 19/50\n",
            "80/80 [==============================] - 0s 5ms/step - loss: 0.3220 - accuracy: 0.9074 - val_loss: 0.9077 - val_accuracy: 0.4486\n",
            "Epoch 20/50\n",
            "80/80 [==============================] - 0s 4ms/step - loss: 0.3103 - accuracy: 0.9124 - val_loss: 0.9251 - val_accuracy: 0.4432\n",
            "Epoch 21/50\n",
            "80/80 [==============================] - 0s 5ms/step - loss: 0.2994 - accuracy: 0.9165 - val_loss: 0.9376 - val_accuracy: 0.4432\n",
            "Epoch 22/50\n",
            "80/80 [==============================] - 0s 4ms/step - loss: 0.2889 - accuracy: 0.9190 - val_loss: 0.9486 - val_accuracy: 0.4459\n",
            "Epoch 23/50\n",
            "80/80 [==============================] - 0s 4ms/step - loss: 0.2792 - accuracy: 0.9221 - val_loss: 0.9745 - val_accuracy: 0.4459\n",
            "Epoch 24/50\n",
            "80/80 [==============================] - 0s 4ms/step - loss: 0.2702 - accuracy: 0.9231 - val_loss: 0.9918 - val_accuracy: 0.4378\n",
            "Epoch 25/50\n",
            "80/80 [==============================] - 0s 4ms/step - loss: 0.2616 - accuracy: 0.9251 - val_loss: 1.0170 - val_accuracy: 0.4405\n",
            "Epoch 26/50\n",
            "80/80 [==============================] - 0s 4ms/step - loss: 0.2532 - accuracy: 0.9276 - val_loss: 1.0327 - val_accuracy: 0.4405\n",
            "Epoch 27/50\n",
            "80/80 [==============================] - 0s 4ms/step - loss: 0.2456 - accuracy: 0.9291 - val_loss: 1.0552 - val_accuracy: 0.4432\n",
            "Epoch 28/50\n",
            "80/80 [==============================] - 0s 4ms/step - loss: 0.2382 - accuracy: 0.9302 - val_loss: 1.0672 - val_accuracy: 0.4459\n",
            "Epoch 29/50\n",
            "80/80 [==============================] - 0s 4ms/step - loss: 0.2311 - accuracy: 0.9322 - val_loss: 1.0856 - val_accuracy: 0.4432\n",
            "Epoch 30/50\n",
            "80/80 [==============================] - 0s 4ms/step - loss: 0.2243 - accuracy: 0.9337 - val_loss: 1.0992 - val_accuracy: 0.4459\n",
            "Epoch 31/50\n",
            "80/80 [==============================] - 0s 6ms/step - loss: 0.2179 - accuracy: 0.9347 - val_loss: 1.1258 - val_accuracy: 0.4432\n",
            "Epoch 32/50\n",
            "80/80 [==============================] - 0s 6ms/step - loss: 0.2119 - accuracy: 0.9383 - val_loss: 1.1391 - val_accuracy: 0.4486\n",
            "Epoch 33/50\n",
            "80/80 [==============================] - 0s 6ms/step - loss: 0.2061 - accuracy: 0.9383 - val_loss: 1.1541 - val_accuracy: 0.4459\n",
            "Epoch 34/50\n",
            "80/80 [==============================] - 0s 6ms/step - loss: 0.2005 - accuracy: 0.9413 - val_loss: 1.1688 - val_accuracy: 0.4459\n",
            "Epoch 35/50\n",
            "80/80 [==============================] - 0s 6ms/step - loss: 0.1953 - accuracy: 0.9403 - val_loss: 1.1941 - val_accuracy: 0.4459\n",
            "Epoch 36/50\n",
            "80/80 [==============================] - 0s 4ms/step - loss: 0.1902 - accuracy: 0.9428 - val_loss: 1.1933 - val_accuracy: 0.4514\n",
            "Epoch 37/50\n",
            "80/80 [==============================] - 0s 4ms/step - loss: 0.1853 - accuracy: 0.9438 - val_loss: 1.2087 - val_accuracy: 0.4459\n",
            "Epoch 38/50\n",
            "80/80 [==============================] - 0s 4ms/step - loss: 0.1806 - accuracy: 0.9438 - val_loss: 1.2283 - val_accuracy: 0.4459\n",
            "Epoch 39/50\n",
            "80/80 [==============================] - 0s 4ms/step - loss: 0.1763 - accuracy: 0.9443 - val_loss: 1.2613 - val_accuracy: 0.4351\n",
            "Epoch 40/50\n",
            "80/80 [==============================] - 0s 4ms/step - loss: 0.1721 - accuracy: 0.9453 - val_loss: 1.2710 - val_accuracy: 0.4378\n",
            "Epoch 41/50\n",
            "80/80 [==============================] - 0s 4ms/step - loss: 0.1679 - accuracy: 0.9474 - val_loss: 1.2866 - val_accuracy: 0.4405\n",
            "Epoch 42/50\n",
            "80/80 [==============================] - 0s 4ms/step - loss: 0.1641 - accuracy: 0.9494 - val_loss: 1.3022 - val_accuracy: 0.4459\n",
            "Epoch 43/50\n",
            "80/80 [==============================] - 0s 4ms/step - loss: 0.1604 - accuracy: 0.9489 - val_loss: 1.3165 - val_accuracy: 0.4459\n",
            "Epoch 44/50\n",
            "80/80 [==============================] - 0s 4ms/step - loss: 0.1568 - accuracy: 0.9509 - val_loss: 1.3317 - val_accuracy: 0.4459\n",
            "Epoch 45/50\n",
            "80/80 [==============================] - 0s 4ms/step - loss: 0.1535 - accuracy: 0.9499 - val_loss: 1.3545 - val_accuracy: 0.4486\n",
            "Epoch 46/50\n",
            "80/80 [==============================] - 0s 4ms/step - loss: 0.1502 - accuracy: 0.9504 - val_loss: 1.3861 - val_accuracy: 0.4486\n",
            "Epoch 47/50\n",
            "80/80 [==============================] - 0s 4ms/step - loss: 0.1473 - accuracy: 0.9519 - val_loss: 1.3930 - val_accuracy: 0.4514\n",
            "Epoch 48/50\n",
            "80/80 [==============================] - 0s 4ms/step - loss: 0.1442 - accuracy: 0.9524 - val_loss: 1.4066 - val_accuracy: 0.4514\n",
            "Epoch 49/50\n",
            "80/80 [==============================] - 0s 4ms/step - loss: 0.1413 - accuracy: 0.9519 - val_loss: 1.4266 - val_accuracy: 0.4486\n",
            "Epoch 50/50\n",
            "80/80 [==============================] - 0s 4ms/step - loss: 0.1386 - accuracy: 0.9524 - val_loss: 1.4318 - val_accuracy: 0.4568\n"
          ]
        }
      ],
      "source": [
        "# Обучение модели сверточной нейронной сети подготовленных данных\n",
        "\n",
        "store_learning = model.fit(worker.x_tBOW,\n",
        "                           worker.y_train,\n",
        "                           validation_data=(worker.x_testBOW, worker.y_val),\n",
        "                           shuffle=True,\n",
        "                           batch_size=25,\n",
        "                           epochs=50, \n",
        "                           verbose=1)"
      ]
    },
    {
      "cell_type": "code",
      "execution_count": null,
      "metadata": {
        "colab": {
          "base_uri": "https://localhost:8080/",
          "height": 535
        },
        "id": "5qTLv6MQmfzx",
        "outputId": "6615985c-74cb-4226-9c10-4323464ff950"
      },
      "outputs": [
        {
          "output_type": "stream",
          "name": "stdout",
          "text": [
            "График обучения:\n"
          ]
        },
        {
          "output_type": "display_data",
          "data": {
            "text/plain": [
              "<Figure size 864x576 with 1 Axes>"
            ],
            "image/png": "[encoded data removed]"
          },
          "metadata": {}
        },
        {
          "output_type": "stream",
          "name": "stdout",
          "text": [
            "Максимальная точность на обучающей выборке: 0.952\n",
            "Максимальная точность на проверочной выборке: 0.608\n"
          ]
        }
      ],
      "source": [
        "worker.show_learning_information(store_learning)"
      ]
    },
    {
      "cell_type": "markdown",
      "metadata": {
        "id": "br_zNsTBmfzx"
      },
      "source": [
        "**Несколько запусков**"
      ]
    },
    {
      "cell_type": "code",
      "execution_count": null,
      "metadata": {
        "colab": {
          "base_uri": "https://localhost:8080/"
        },
        "outputId": "4cc43f47-23dd-4433-ab50-afe512ed9663",
        "id": "eGTTWAfNZ1ys"
      },
      "outputs": [
        {
          "output_type": "stream",
          "name": "stdout",
          "text": [
            "\u001b[1m\u001b[94mОбучение №1 завершено. Результаты\u001b[0m\n",
            "Максимальная точность на обучающей выборке: 0.957\n",
            "Максимальная точность на проверочной выборке: 0.557\n",
            "\n",
            "\n",
            "\n",
            "\n",
            "\u001b[1m\u001b[94mОбучение №2 завершено. Результаты\u001b[0m\n",
            "Максимальная точность на обучающей выборке: 0.955\n",
            "Максимальная точность на проверочной выборке: 0.508\n",
            "\n",
            "\n",
            "\n",
            "\n",
            "\u001b[1m\u001b[94mОбучение №3 завершено. Результаты\u001b[0m\n",
            "Максимальная точность на обучающей выборке: 0.958\n",
            "Максимальная точность на проверочной выборке: 0.581\n",
            "\n",
            "\n",
            "\n",
            "\n",
            "\u001b[1m\u001b[94mОбучение №4 завершено. Результаты\u001b[0m\n",
            "Максимальная точность на обучающей выборке: 0.955\n",
            "Максимальная точность на проверочной выборке: 0.595\n",
            "\n",
            "\n",
            "\n",
            "\n",
            "\u001b[1m\u001b[94mОбучение №5 завершено. Результаты\u001b[0m\n",
            "Максимальная точность на обучающей выборке: 0.955\n",
            "Максимальная точность на проверочной выборке: 0.505\n",
            "\n",
            "\n",
            "\n",
            "\n",
            "\u001b[1m###############################################################################\u001b[0m\n",
            "\u001b[95m Финальные результаты\u001b[0m\n",
            "Средняя точность на обучающей выборке: 0.956\n",
            "Максимальная точность на обучающей выборке: 0.958\n",
            "Средняя точность на проверочной выборке: 0.549\n",
            "Максимальная точность на проверочной выборке: 0.595\n"
          ]
        }
      ],
      "source": [
        "worker.train_model(\n",
        "    funcModel=create_model,\n",
        "    count=5,\n",
        "    train_data=worker.x_tBOW,\n",
        "    test_data=worker.x_testBOW)"
      ]
    },
    {
      "cell_type": "markdown",
      "source": [
        "### **Эксп. №2 (Усиливаем Dense-слой до 64 нейронов) (59.2%)**"
      ],
      "metadata": {
        "id": "DfuIuEaIYbjx"
      }
    },
    {
      "cell_type": "code",
      "execution_count": null,
      "metadata": {
        "id": "NxgbYhB1Ybjy"
      },
      "outputs": [],
      "source": [
        "def create_model():\n",
        "  # Последовательная модель\n",
        "  model = Sequential()\n",
        "  # Входной полносвязный слой\n",
        "  model.add(Dense(64, input_dim=max_words_count, activation=\"relu\"))\n",
        "  # Второй полносвязный слой\n",
        "  model.add(Dense(1, activation='sigmoid'))\n",
        "\n",
        "  model.compile(optimizer=Adam(1e-4), \n",
        "                    loss='binary_crossentropy', \n",
        "                    metrics=['accuracy'])\n",
        "  # Компиляция модели\n",
        "  return model\n",
        "\n",
        "model = create_model()"
      ]
    },
    {
      "cell_type": "code",
      "execution_count": null,
      "metadata": {
        "colab": {
          "base_uri": "https://localhost:8080/"
        },
        "outputId": "5f3a4375-fcfc-482a-f36a-9d696af31416",
        "id": "96EhPcZrYbjz"
      },
      "outputs": [
        {
          "output_type": "stream",
          "name": "stdout",
          "text": [
            "Epoch 1/50\n",
            "80/80 [==============================] - 2s 8ms/step - loss: 0.6831 - accuracy: 0.5729 - val_loss: 0.6756 - val_accuracy: 0.5973\n",
            "Epoch 2/50\n",
            "80/80 [==============================] - 0s 6ms/step - loss: 0.6483 - accuracy: 0.6680 - val_loss: 0.6712 - val_accuracy: 0.5973\n",
            "Epoch 3/50\n",
            "80/80 [==============================] - 1s 6ms/step - loss: 0.6173 - accuracy: 0.7181 - val_loss: 0.6750 - val_accuracy: 0.5622\n",
            "Epoch 4/50\n",
            "80/80 [==============================] - 0s 6ms/step - loss: 0.5848 - accuracy: 0.7556 - val_loss: 0.6829 - val_accuracy: 0.5432\n",
            "Epoch 5/50\n",
            "80/80 [==============================] - 0s 6ms/step - loss: 0.5518 - accuracy: 0.7920 - val_loss: 0.6893 - val_accuracy: 0.5351\n",
            "Epoch 6/50\n",
            "80/80 [==============================] - 0s 4ms/step - loss: 0.5184 - accuracy: 0.8244 - val_loss: 0.7081 - val_accuracy: 0.5081\n",
            "Epoch 7/50\n",
            "80/80 [==============================] - 0s 4ms/step - loss: 0.4857 - accuracy: 0.8386 - val_loss: 0.7331 - val_accuracy: 0.4757\n",
            "Epoch 8/50\n",
            "80/80 [==============================] - 0s 4ms/step - loss: 0.4554 - accuracy: 0.8492 - val_loss: 0.7579 - val_accuracy: 0.4703\n",
            "Epoch 9/50\n",
            "80/80 [==============================] - 0s 4ms/step - loss: 0.4276 - accuracy: 0.8715 - val_loss: 0.7710 - val_accuracy: 0.4595\n",
            "Epoch 10/50\n",
            "80/80 [==============================] - 0s 5ms/step - loss: 0.4018 - accuracy: 0.8790 - val_loss: 0.7932 - val_accuracy: 0.4622\n",
            "Epoch 11/50\n",
            "80/80 [==============================] - 0s 4ms/step - loss: 0.3784 - accuracy: 0.8856 - val_loss: 0.8104 - val_accuracy: 0.4676\n",
            "Epoch 12/50\n",
            "80/80 [==============================] - 0s 4ms/step - loss: 0.3571 - accuracy: 0.8882 - val_loss: 0.8435 - val_accuracy: 0.4486\n",
            "Epoch 13/50\n",
            "80/80 [==============================] - 0s 4ms/step - loss: 0.3376 - accuracy: 0.8988 - val_loss: 0.8744 - val_accuracy: 0.4324\n",
            "Epoch 14/50\n",
            "80/80 [==============================] - 0s 4ms/step - loss: 0.3198 - accuracy: 0.9099 - val_loss: 0.8945 - val_accuracy: 0.4405\n",
            "Epoch 15/50\n",
            "80/80 [==============================] - 0s 4ms/step - loss: 0.3033 - accuracy: 0.9155 - val_loss: 0.9234 - val_accuracy: 0.4351\n",
            "Epoch 16/50\n",
            "80/80 [==============================] - 0s 5ms/step - loss: 0.2884 - accuracy: 0.9205 - val_loss: 0.9447 - val_accuracy: 0.4351\n",
            "Epoch 17/50\n",
            "80/80 [==============================] - 0s 5ms/step - loss: 0.2746 - accuracy: 0.9236 - val_loss: 0.9697 - val_accuracy: 0.4351\n",
            "Epoch 18/50\n",
            "80/80 [==============================] - 0s 4ms/step - loss: 0.2622 - accuracy: 0.9281 - val_loss: 0.9998 - val_accuracy: 0.4324\n",
            "Epoch 19/50\n",
            "80/80 [==============================] - 0s 4ms/step - loss: 0.2504 - accuracy: 0.9307 - val_loss: 1.0219 - val_accuracy: 0.4351\n",
            "Epoch 20/50\n",
            "80/80 [==============================] - 0s 4ms/step - loss: 0.2396 - accuracy: 0.9312 - val_loss: 1.0375 - val_accuracy: 0.4297\n",
            "Epoch 21/50\n",
            "80/80 [==============================] - 0s 4ms/step - loss: 0.2296 - accuracy: 0.9332 - val_loss: 1.0770 - val_accuracy: 0.4351\n",
            "Epoch 22/50\n",
            "80/80 [==============================] - 0s 4ms/step - loss: 0.2202 - accuracy: 0.9362 - val_loss: 1.0964 - val_accuracy: 0.4324\n",
            "Epoch 23/50\n",
            "80/80 [==============================] - 0s 4ms/step - loss: 0.2116 - accuracy: 0.9383 - val_loss: 1.1184 - val_accuracy: 0.4297\n",
            "Epoch 24/50\n",
            "80/80 [==============================] - 0s 4ms/step - loss: 0.2035 - accuracy: 0.9393 - val_loss: 1.1431 - val_accuracy: 0.4324\n",
            "Epoch 25/50\n",
            "80/80 [==============================] - 0s 4ms/step - loss: 0.1959 - accuracy: 0.9433 - val_loss: 1.1562 - val_accuracy: 0.4270\n",
            "Epoch 26/50\n",
            "80/80 [==============================] - 0s 4ms/step - loss: 0.1890 - accuracy: 0.9423 - val_loss: 1.1966 - val_accuracy: 0.4243\n",
            "Epoch 27/50\n",
            "80/80 [==============================] - 0s 4ms/step - loss: 0.1825 - accuracy: 0.9453 - val_loss: 1.2033 - val_accuracy: 0.4270\n",
            "Epoch 28/50\n",
            "80/80 [==============================] - 0s 4ms/step - loss: 0.1761 - accuracy: 0.9464 - val_loss: 1.2336 - val_accuracy: 0.4216\n",
            "Epoch 29/50\n",
            "80/80 [==============================] - 0s 4ms/step - loss: 0.1704 - accuracy: 0.9469 - val_loss: 1.2511 - val_accuracy: 0.4243\n",
            "Epoch 30/50\n",
            "80/80 [==============================] - 0s 4ms/step - loss: 0.1650 - accuracy: 0.9479 - val_loss: 1.2767 - val_accuracy: 0.4216\n",
            "Epoch 31/50\n",
            "80/80 [==============================] - 0s 5ms/step - loss: 0.1597 - accuracy: 0.9494 - val_loss: 1.2924 - val_accuracy: 0.4243\n",
            "Epoch 32/50\n",
            "80/80 [==============================] - 0s 5ms/step - loss: 0.1549 - accuracy: 0.9499 - val_loss: 1.3178 - val_accuracy: 0.4378\n",
            "Epoch 33/50\n",
            "80/80 [==============================] - 0s 5ms/step - loss: 0.1503 - accuracy: 0.9514 - val_loss: 1.3296 - val_accuracy: 0.4378\n",
            "Epoch 34/50\n",
            "80/80 [==============================] - 0s 6ms/step - loss: 0.1460 - accuracy: 0.9534 - val_loss: 1.3615 - val_accuracy: 0.4351\n",
            "Epoch 35/50\n",
            "80/80 [==============================] - 0s 6ms/step - loss: 0.1419 - accuracy: 0.9565 - val_loss: 1.3800 - val_accuracy: 0.4486\n",
            "Epoch 36/50\n",
            "80/80 [==============================] - 0s 6ms/step - loss: 0.1381 - accuracy: 0.9555 - val_loss: 1.4116 - val_accuracy: 0.4432\n",
            "Epoch 37/50\n",
            "80/80 [==============================] - 0s 6ms/step - loss: 0.1343 - accuracy: 0.9575 - val_loss: 1.4225 - val_accuracy: 0.4568\n",
            "Epoch 38/50\n",
            "80/80 [==============================] - 1s 6ms/step - loss: 0.1309 - accuracy: 0.9570 - val_loss: 1.4524 - val_accuracy: 0.4514\n",
            "Epoch 39/50\n",
            "80/80 [==============================] - 0s 4ms/step - loss: 0.1276 - accuracy: 0.9570 - val_loss: 1.4838 - val_accuracy: 0.4514\n",
            "Epoch 40/50\n",
            "80/80 [==============================] - 0s 5ms/step - loss: 0.1244 - accuracy: 0.9575 - val_loss: 1.5027 - val_accuracy: 0.4568\n",
            "Epoch 41/50\n",
            "80/80 [==============================] - 0s 4ms/step - loss: 0.1214 - accuracy: 0.9575 - val_loss: 1.5290 - val_accuracy: 0.4541\n",
            "Epoch 42/50\n",
            "80/80 [==============================] - 0s 5ms/step - loss: 0.1186 - accuracy: 0.9575 - val_loss: 1.5433 - val_accuracy: 0.4595\n",
            "Epoch 43/50\n",
            "80/80 [==============================] - 0s 4ms/step - loss: 0.1159 - accuracy: 0.9585 - val_loss: 1.5712 - val_accuracy: 0.4568\n",
            "Epoch 44/50\n",
            "80/80 [==============================] - 0s 4ms/step - loss: 0.1133 - accuracy: 0.9590 - val_loss: 1.5964 - val_accuracy: 0.4514\n",
            "Epoch 45/50\n",
            "80/80 [==============================] - 0s 4ms/step - loss: 0.1108 - accuracy: 0.9600 - val_loss: 1.6132 - val_accuracy: 0.4514\n",
            "Epoch 46/50\n",
            "80/80 [==============================] - 0s 4ms/step - loss: 0.1083 - accuracy: 0.9590 - val_loss: 1.6387 - val_accuracy: 0.4541\n",
            "Epoch 47/50\n",
            "80/80 [==============================] - 0s 4ms/step - loss: 0.1062 - accuracy: 0.9610 - val_loss: 1.6521 - val_accuracy: 0.4514\n",
            "Epoch 48/50\n",
            "80/80 [==============================] - 0s 4ms/step - loss: 0.1040 - accuracy: 0.9610 - val_loss: 1.6661 - val_accuracy: 0.4541\n",
            "Epoch 49/50\n",
            "80/80 [==============================] - 0s 5ms/step - loss: 0.1019 - accuracy: 0.9610 - val_loss: 1.7027 - val_accuracy: 0.4486\n",
            "Epoch 50/50\n",
            "80/80 [==============================] - 0s 5ms/step - loss: 0.0999 - accuracy: 0.9631 - val_loss: 1.7298 - val_accuracy: 0.4459\n"
          ]
        }
      ],
      "source": [
        "# Обучение модели сверточной нейронной сети подготовленных данных\n",
        "\n",
        "store_learning = model.fit(worker.x_tBOW,\n",
        "                           worker.y_train,\n",
        "                           validation_data=(worker.x_testBOW, worker.y_val),\n",
        "                           shuffle=True,\n",
        "                           batch_size=25,\n",
        "                           epochs=50, \n",
        "                           verbose=1)"
      ]
    },
    {
      "cell_type": "code",
      "execution_count": null,
      "metadata": {
        "colab": {
          "base_uri": "https://localhost:8080/",
          "height": 535
        },
        "outputId": "c3ff56a3-ac47-4f21-9760-c7679416301b",
        "id": "Pjsa17O9Ybj0"
      },
      "outputs": [
        {
          "output_type": "stream",
          "name": "stdout",
          "text": [
            "График обучения:\n"
          ]
        },
        {
          "output_type": "display_data",
          "data": {
            "text/plain": [
              "<Figure size 864x576 with 1 Axes>"
            ],
            "image/png": "[encoded data removed]"
          },
          "metadata": {}
        },
        {
          "output_type": "stream",
          "name": "stdout",
          "text": [
            "Максимальная точность на обучающей выборке: 0.963\n",
            "Максимальная точность на проверочной выборке: 0.597\n"
          ]
        }
      ],
      "source": [
        "worker.show_learning_information(store_learning)"
      ]
    },
    {
      "cell_type": "markdown",
      "metadata": {
        "id": "Fq6-ZTI8Ybj0"
      },
      "source": [
        "**Несколько запусков**"
      ]
    },
    {
      "cell_type": "code",
      "execution_count": null,
      "metadata": {
        "colab": {
          "base_uri": "https://localhost:8080/"
        },
        "outputId": "267e00be-47ae-4e12-a0c3-9e713a85c15f",
        "id": "cvjyWyN61Ask"
      },
      "outputs": [
        {
          "output_type": "stream",
          "name": "stdout",
          "text": [
            "\u001b[1m\u001b[94mОбучение №1 завершено. Результаты\u001b[0m\n",
            "Максимальная точность на обучающей выборке: 0.964\n",
            "Максимальная точность на проверочной выборке: 0.584\n",
            "\n",
            "\n",
            "\n",
            "\n",
            "\u001b[1m\u001b[94mОбучение №2 завершено. Результаты\u001b[0m\n",
            "Максимальная точность на обучающей выборке: 0.962\n",
            "Максимальная точность на проверочной выборке: 0.592\n",
            "\n",
            "\n",
            "\n",
            "\n",
            "\u001b[1m\u001b[94mОбучение №3 завершено. Результаты\u001b[0m\n",
            "Максимальная точность на обучающей выборке: 0.963\n",
            "Максимальная точность на проверочной выборке: 0.581\n",
            "\n",
            "\n",
            "\n",
            "\n",
            "\u001b[1m\u001b[94mОбучение №4 завершено. Результаты\u001b[0m\n",
            "Максимальная точность на обучающей выборке: 0.963\n",
            "Максимальная точность на проверочной выборке: 0.549\n",
            "\n",
            "\n",
            "\n",
            "\n",
            "\u001b[1m\u001b[94mОбучение №5 завершено. Результаты\u001b[0m\n",
            "Максимальная точность на обучающей выборке: 0.963\n",
            "Максимальная точность на проверочной выборке: 0.527\n",
            "\n",
            "\n",
            "\n",
            "\n",
            "\u001b[1m###############################################################################\u001b[0m\n",
            "\u001b[95m Финальные результаты\u001b[0m\n",
            "Средняя точность на обучающей выборке: 0.963\n",
            "Максимальная точность на обучающей выборке: 0.964\n",
            "Средняя точность на проверочной выборке: 0.566\n",
            "Максимальная точность на проверочной выборке: 0.592\n"
          ]
        }
      ],
      "source": [
        "worker.train_model(\n",
        "    funcModel=create_model,\n",
        "    count=5,\n",
        "    train_data=worker.x_tBOW,\n",
        "    test_data=worker.x_testBOW)"
      ]
    },
    {
      "cell_type": "markdown",
      "source": [
        "### **Эксп. №3 (Усиливаем Dense-слой до 256 нейронов) (62.7%)**"
      ],
      "metadata": {
        "id": "IlDOmI6bYxBX"
      }
    },
    {
      "cell_type": "code",
      "execution_count": null,
      "metadata": {
        "id": "SJhcZ3_jYxBY"
      },
      "outputs": [],
      "source": [
        "def create_model():\n",
        "  # Последовательная модель\n",
        "  model = Sequential()\n",
        "  # Входной полносвязный слой\n",
        "  model.add(Dense(256, input_dim=max_words_count, activation=\"relu\"))\n",
        "  # Второй полносвязный слой\n",
        "  model.add(Dense(1, activation='sigmoid'))\n",
        "\n",
        "  model.compile(optimizer=Adam(1e-4), \n",
        "                    loss='binary_crossentropy', \n",
        "                    metrics=['accuracy'])\n",
        "  # Компиляция модели\n",
        "  return model\n",
        "\n",
        "model = create_model()"
      ]
    },
    {
      "cell_type": "code",
      "execution_count": null,
      "metadata": {
        "colab": {
          "base_uri": "https://localhost:8080/"
        },
        "outputId": "c52e8eee-58a1-426d-9947-1d112659b541",
        "id": "RwEDps1BYxBZ"
      },
      "outputs": [
        {
          "output_type": "stream",
          "name": "stdout",
          "text": [
            "Epoch 1/50\n",
            "80/80 [==============================] - 1s 6ms/step - loss: 0.6695 - accuracy: 0.5810 - val_loss: 0.6930 - val_accuracy: 0.4865\n",
            "Epoch 2/50\n",
            "80/80 [==============================] - 0s 4ms/step - loss: 0.6068 - accuracy: 0.7247 - val_loss: 0.7053 - val_accuracy: 0.4703\n",
            "Epoch 3/50\n",
            "80/80 [==============================] - 0s 4ms/step - loss: 0.5527 - accuracy: 0.8026 - val_loss: 0.7179 - val_accuracy: 0.4486\n",
            "Epoch 4/50\n",
            "80/80 [==============================] - 0s 4ms/step - loss: 0.5017 - accuracy: 0.8441 - val_loss: 0.7364 - val_accuracy: 0.4459\n",
            "Epoch 5/50\n",
            "80/80 [==============================] - 0s 5ms/step - loss: 0.4530 - accuracy: 0.8654 - val_loss: 0.7750 - val_accuracy: 0.4405\n",
            "Epoch 6/50\n",
            "80/80 [==============================] - 0s 6ms/step - loss: 0.4095 - accuracy: 0.8796 - val_loss: 0.8102 - val_accuracy: 0.4486\n",
            "Epoch 7/50\n",
            "80/80 [==============================] - 0s 6ms/step - loss: 0.3699 - accuracy: 0.8942 - val_loss: 0.8282 - val_accuracy: 0.4514\n",
            "Epoch 8/50\n",
            "80/80 [==============================] - 0s 5ms/step - loss: 0.3354 - accuracy: 0.9084 - val_loss: 0.8569 - val_accuracy: 0.4324\n",
            "Epoch 9/50\n",
            "80/80 [==============================] - 0s 6ms/step - loss: 0.3051 - accuracy: 0.9211 - val_loss: 0.8999 - val_accuracy: 0.4270\n",
            "Epoch 10/50\n",
            "80/80 [==============================] - 0s 6ms/step - loss: 0.2788 - accuracy: 0.9291 - val_loss: 0.9375 - val_accuracy: 0.4270\n",
            "Epoch 11/50\n",
            "80/80 [==============================] - 0s 5ms/step - loss: 0.2562 - accuracy: 0.9342 - val_loss: 0.9802 - val_accuracy: 0.4378\n",
            "Epoch 12/50\n",
            "80/80 [==============================] - 0s 4ms/step - loss: 0.2363 - accuracy: 0.9362 - val_loss: 1.0186 - val_accuracy: 0.4378\n",
            "Epoch 13/50\n",
            "80/80 [==============================] - 0s 5ms/step - loss: 0.2187 - accuracy: 0.9413 - val_loss: 1.0273 - val_accuracy: 0.4541\n",
            "Epoch 14/50\n",
            "80/80 [==============================] - 0s 4ms/step - loss: 0.2037 - accuracy: 0.9438 - val_loss: 1.0872 - val_accuracy: 0.4459\n",
            "Epoch 15/50\n",
            "80/80 [==============================] - 0s 4ms/step - loss: 0.1901 - accuracy: 0.9443 - val_loss: 1.1242 - val_accuracy: 0.4486\n",
            "Epoch 16/50\n",
            "80/80 [==============================] - 0s 5ms/step - loss: 0.1782 - accuracy: 0.9464 - val_loss: 1.1520 - val_accuracy: 0.4541\n",
            "Epoch 17/50\n",
            "80/80 [==============================] - 0s 4ms/step - loss: 0.1678 - accuracy: 0.9494 - val_loss: 1.1793 - val_accuracy: 0.4595\n",
            "Epoch 18/50\n",
            "80/80 [==============================] - 0s 5ms/step - loss: 0.1585 - accuracy: 0.9519 - val_loss: 1.2369 - val_accuracy: 0.4486\n",
            "Epoch 19/50\n",
            "80/80 [==============================] - 0s 4ms/step - loss: 0.1500 - accuracy: 0.9560 - val_loss: 1.2389 - val_accuracy: 0.4622\n",
            "Epoch 20/50\n",
            "80/80 [==============================] - 0s 4ms/step - loss: 0.1426 - accuracy: 0.9555 - val_loss: 1.3064 - val_accuracy: 0.4541\n",
            "Epoch 21/50\n",
            "80/80 [==============================] - 0s 4ms/step - loss: 0.1359 - accuracy: 0.9565 - val_loss: 1.3321 - val_accuracy: 0.4541\n",
            "Epoch 22/50\n",
            "80/80 [==============================] - 0s 5ms/step - loss: 0.1296 - accuracy: 0.9590 - val_loss: 1.3544 - val_accuracy: 0.4568\n",
            "Epoch 23/50\n",
            "80/80 [==============================] - 0s 5ms/step - loss: 0.1244 - accuracy: 0.9595 - val_loss: 1.3839 - val_accuracy: 0.4568\n",
            "Epoch 24/50\n",
            "80/80 [==============================] - 0s 4ms/step - loss: 0.1190 - accuracy: 0.9605 - val_loss: 1.4347 - val_accuracy: 0.4595\n",
            "Epoch 25/50\n",
            "80/80 [==============================] - 0s 4ms/step - loss: 0.1146 - accuracy: 0.9615 - val_loss: 1.4641 - val_accuracy: 0.4595\n",
            "Epoch 26/50\n",
            "80/80 [==============================] - 0s 4ms/step - loss: 0.1103 - accuracy: 0.9626 - val_loss: 1.5038 - val_accuracy: 0.4622\n",
            "Epoch 27/50\n",
            "80/80 [==============================] - 0s 4ms/step - loss: 0.1063 - accuracy: 0.9631 - val_loss: 1.5209 - val_accuracy: 0.4568\n",
            "Epoch 28/50\n",
            "80/80 [==============================] - 0s 4ms/step - loss: 0.1027 - accuracy: 0.9636 - val_loss: 1.5666 - val_accuracy: 0.4568\n",
            "Epoch 29/50\n",
            "80/80 [==============================] - 0s 4ms/step - loss: 0.0994 - accuracy: 0.9656 - val_loss: 1.5994 - val_accuracy: 0.4568\n",
            "Epoch 30/50\n",
            "80/80 [==============================] - 0s 4ms/step - loss: 0.0963 - accuracy: 0.9671 - val_loss: 1.6205 - val_accuracy: 0.4595\n",
            "Epoch 31/50\n",
            "80/80 [==============================] - 0s 4ms/step - loss: 0.0934 - accuracy: 0.9686 - val_loss: 1.6390 - val_accuracy: 0.4541\n",
            "Epoch 32/50\n",
            "80/80 [==============================] - 0s 4ms/step - loss: 0.0908 - accuracy: 0.9676 - val_loss: 1.6837 - val_accuracy: 0.4595\n",
            "Epoch 33/50\n",
            "80/80 [==============================] - 0s 5ms/step - loss: 0.0882 - accuracy: 0.9696 - val_loss: 1.7162 - val_accuracy: 0.4595\n",
            "Epoch 34/50\n",
            "80/80 [==============================] - 0s 5ms/step - loss: 0.0860 - accuracy: 0.9691 - val_loss: 1.7435 - val_accuracy: 0.4811\n",
            "Epoch 35/50\n",
            "80/80 [==============================] - 0s 4ms/step - loss: 0.0837 - accuracy: 0.9696 - val_loss: 1.7775 - val_accuracy: 0.4784\n",
            "Epoch 36/50\n",
            "80/80 [==============================] - 0s 4ms/step - loss: 0.0817 - accuracy: 0.9712 - val_loss: 1.7959 - val_accuracy: 0.4838\n",
            "Epoch 37/50\n",
            "80/80 [==============================] - 0s 4ms/step - loss: 0.0796 - accuracy: 0.9712 - val_loss: 1.8162 - val_accuracy: 0.4811\n",
            "Epoch 38/50\n",
            "80/80 [==============================] - 0s 4ms/step - loss: 0.0781 - accuracy: 0.9706 - val_loss: 1.8549 - val_accuracy: 0.4811\n",
            "Epoch 39/50\n",
            "80/80 [==============================] - 0s 6ms/step - loss: 0.0765 - accuracy: 0.9717 - val_loss: 1.8755 - val_accuracy: 0.4838\n",
            "Epoch 40/50\n",
            "80/80 [==============================] - 0s 6ms/step - loss: 0.0747 - accuracy: 0.9717 - val_loss: 1.9003 - val_accuracy: 0.4811\n",
            "Epoch 41/50\n",
            "80/80 [==============================] - 0s 6ms/step - loss: 0.0733 - accuracy: 0.9717 - val_loss: 1.9264 - val_accuracy: 0.4757\n",
            "Epoch 42/50\n",
            "80/80 [==============================] - 0s 6ms/step - loss: 0.0719 - accuracy: 0.9712 - val_loss: 1.9786 - val_accuracy: 0.4730\n",
            "Epoch 43/50\n",
            "80/80 [==============================] - 0s 6ms/step - loss: 0.0706 - accuracy: 0.9717 - val_loss: 2.0037 - val_accuracy: 0.4703\n",
            "Epoch 44/50\n",
            "80/80 [==============================] - 0s 4ms/step - loss: 0.0692 - accuracy: 0.9717 - val_loss: 2.0265 - val_accuracy: 0.4703\n",
            "Epoch 45/50\n",
            "80/80 [==============================] - 0s 4ms/step - loss: 0.0681 - accuracy: 0.9717 - val_loss: 2.0495 - val_accuracy: 0.4703\n",
            "Epoch 46/50\n",
            "80/80 [==============================] - 0s 4ms/step - loss: 0.0671 - accuracy: 0.9717 - val_loss: 2.0837 - val_accuracy: 0.4703\n",
            "Epoch 47/50\n",
            "80/80 [==============================] - 0s 5ms/step - loss: 0.0659 - accuracy: 0.9722 - val_loss: 2.1123 - val_accuracy: 0.4730\n",
            "Epoch 48/50\n",
            "80/80 [==============================] - 0s 4ms/step - loss: 0.0650 - accuracy: 0.9722 - val_loss: 2.1249 - val_accuracy: 0.4757\n",
            "Epoch 49/50\n",
            "80/80 [==============================] - 0s 4ms/step - loss: 0.0641 - accuracy: 0.9722 - val_loss: 2.1565 - val_accuracy: 0.4730\n",
            "Epoch 50/50\n",
            "80/80 [==============================] - 0s 5ms/step - loss: 0.0631 - accuracy: 0.9732 - val_loss: 2.1992 - val_accuracy: 0.4757\n"
          ]
        }
      ],
      "source": [
        "# Обучение модели сверточной нейронной сети подготовленных данных\n",
        "\n",
        "store_learning = model.fit(worker.x_tBOW,\n",
        "                           worker.y_train,\n",
        "                           validation_data=(worker.x_testBOW, worker.y_val),\n",
        "                           shuffle=True,\n",
        "                           batch_size=25,\n",
        "                           epochs=50, \n",
        "                           verbose=1)"
      ]
    },
    {
      "cell_type": "code",
      "execution_count": null,
      "metadata": {
        "colab": {
          "base_uri": "https://localhost:8080/",
          "height": 538
        },
        "outputId": "8d5d6870-7a02-467d-f0dd-306efefce06a",
        "id": "9XglKIu4YxBa"
      },
      "outputs": [
        {
          "output_type": "stream",
          "name": "stdout",
          "text": [
            "График обучения:\n"
          ]
        },
        {
          "output_type": "display_data",
          "data": {
            "text/plain": [
              "<Figure size 864x576 with 1 Axes>"
            ],
            "image/png": "[encoded data removed]"
          },
          "metadata": {}
        },
        {
          "output_type": "stream",
          "name": "stdout",
          "text": [
            "Максимальная точность на обучающей выборке: 0.973\n",
            "Максимальная точность на проверочной выборке: 0.486\n"
          ]
        }
      ],
      "source": [
        "worker.show_learning_information(store_learning)"
      ]
    },
    {
      "cell_type": "markdown",
      "metadata": {
        "id": "Qy7UOf27YxBa"
      },
      "source": [
        "**Несколько запусков**"
      ]
    },
    {
      "cell_type": "code",
      "execution_count": null,
      "metadata": {
        "colab": {
          "base_uri": "https://localhost:8080/"
        },
        "outputId": "02f9cb33-08e3-4a34-b688-c788055cfa7b",
        "id": "8FsgFZceYxBa"
      },
      "outputs": [
        {
          "output_type": "stream",
          "name": "stdout",
          "text": [
            "\u001b[1m\u001b[94mОбучение №1 завершено. Результаты\u001b[0m\n",
            "Максимальная точность на обучающей выборке: 0.974\n",
            "Максимальная точность на проверочной выборке: 0.57\n",
            "\n",
            "\n",
            "\n",
            "\n",
            "\u001b[1m\u001b[94mОбучение №2 завершено. Результаты\u001b[0m\n",
            "Максимальная точность на обучающей выборке: 0.973\n",
            "Максимальная точность на проверочной выборке: 0.614\n",
            "\n",
            "\n",
            "\n",
            "\n",
            "\u001b[1m\u001b[94mОбучение №3 завершено. Результаты\u001b[0m\n",
            "Максимальная точность на обучающей выборке: 0.973\n",
            "Максимальная точность на проверочной выборке: 0.6\n",
            "\n",
            "\n",
            "\n",
            "\n",
            "\u001b[1m\u001b[94mОбучение №4 завершено. Результаты\u001b[0m\n",
            "Максимальная точность на обучающей выборке: 0.973\n",
            "Максимальная точность на проверочной выборке: 0.559\n",
            "\n",
            "\n",
            "\n",
            "\n",
            "\u001b[1m\u001b[94mОбучение №5 завершено. Результаты\u001b[0m\n",
            "Максимальная точность на обучающей выборке: 0.974\n",
            "Максимальная точность на проверочной выборке: 0.627\n",
            "\n",
            "\n",
            "\n",
            "\n",
            "\u001b[1m###############################################################################\u001b[0m\n",
            "\u001b[95m Финальные результаты\u001b[0m\n",
            "Средняя точность на обучающей выборке: 0.973\n",
            "Максимальная точность на обучающей выборке: 0.974\n",
            "Средняя точность на проверочной выборке: 0.594\n",
            "Максимальная точность на проверочной выборке: 0.627\n"
          ]
        }
      ],
      "source": [
        "worker.train_model(\n",
        "    funcModel=create_model,\n",
        "    count=5,\n",
        "    train_data=worker.x_tBOW,\n",
        "    test_data=worker.x_testBOW)"
      ]
    },
    {
      "cell_type": "markdown",
      "source": [
        "### **Эксп. №4 (Добавляем слой BatchNormalization) (56.8%)** *(не сработало)*"
      ],
      "metadata": {
        "id": "4ipkvnINZNWJ"
      }
    },
    {
      "cell_type": "code",
      "execution_count": null,
      "metadata": {
        "id": "MoVs3agdZNWK"
      },
      "outputs": [],
      "source": [
        "def create_model():\n",
        "  # Последовательная модель\n",
        "  model = Sequential()\n",
        "  # Входной полносвязный слой\n",
        "  model.add(Dense(64, input_dim=max_words_count, activation=\"relu\"))\n",
        "  model.add(BatchNormalization())\n",
        "  # Второй полносвязный слой\n",
        "  model.add(Dense(1, activation='sigmoid'))\n",
        "\n",
        "  model.compile(optimizer=Adam(1e-4), \n",
        "                    loss='binary_crossentropy', \n",
        "                    metrics=['accuracy'])\n",
        "  # Компиляция модели\n",
        "  return model\n",
        "\n",
        "model = create_model()"
      ]
    },
    {
      "cell_type": "code",
      "execution_count": null,
      "metadata": {
        "colab": {
          "base_uri": "https://localhost:8080/"
        },
        "outputId": "a2adff4b-fe85-4dd6-c01c-5e7099c9967e",
        "id": "03wzw4hqZNWL"
      },
      "outputs": [
        {
          "output_type": "stream",
          "name": "stdout",
          "text": [
            "Epoch 1/50\n",
            "80/80 [==============================] - 2s 7ms/step - loss: 0.7301 - accuracy: 0.5622 - val_loss: 0.6929 - val_accuracy: 0.4919\n",
            "Epoch 2/50\n",
            "80/80 [==============================] - 0s 5ms/step - loss: 0.5367 - accuracy: 0.7186 - val_loss: 0.6959 - val_accuracy: 0.5270\n",
            "Epoch 3/50\n",
            "80/80 [==============================] - 0s 5ms/step - loss: 0.4299 - accuracy: 0.8102 - val_loss: 0.7128 - val_accuracy: 0.5108\n",
            "Epoch 4/50\n",
            "80/80 [==============================] - 0s 5ms/step - loss: 0.3624 - accuracy: 0.8634 - val_loss: 0.7549 - val_accuracy: 0.4865\n",
            "Epoch 5/50\n",
            "80/80 [==============================] - 0s 5ms/step - loss: 0.3136 - accuracy: 0.9003 - val_loss: 0.8119 - val_accuracy: 0.4568\n",
            "Epoch 6/50\n",
            "80/80 [==============================] - 0s 5ms/step - loss: 0.2769 - accuracy: 0.9119 - val_loss: 0.8993 - val_accuracy: 0.4757\n",
            "Epoch 7/50\n",
            "80/80 [==============================] - 0s 5ms/step - loss: 0.2405 - accuracy: 0.9383 - val_loss: 0.9696 - val_accuracy: 0.4622\n",
            "Epoch 8/50\n",
            "80/80 [==============================] - 0s 5ms/step - loss: 0.2166 - accuracy: 0.9453 - val_loss: 1.0248 - val_accuracy: 0.4622\n",
            "Epoch 9/50\n",
            "80/80 [==============================] - 0s 5ms/step - loss: 0.1968 - accuracy: 0.9509 - val_loss: 1.0397 - val_accuracy: 0.4757\n",
            "Epoch 10/50\n",
            "80/80 [==============================] - 0s 5ms/step - loss: 0.1830 - accuracy: 0.9484 - val_loss: 1.0920 - val_accuracy: 0.4568\n",
            "Epoch 11/50\n",
            "80/80 [==============================] - 0s 5ms/step - loss: 0.1710 - accuracy: 0.9524 - val_loss: 1.1056 - val_accuracy: 0.4622\n",
            "Epoch 12/50\n",
            "80/80 [==============================] - 0s 5ms/step - loss: 0.1552 - accuracy: 0.9524 - val_loss: 1.1206 - val_accuracy: 0.4568\n",
            "Epoch 13/50\n",
            "80/80 [==============================] - 0s 5ms/step - loss: 0.1463 - accuracy: 0.9595 - val_loss: 1.0981 - val_accuracy: 0.4730\n",
            "Epoch 14/50\n",
            "80/80 [==============================] - 0s 5ms/step - loss: 0.1295 - accuracy: 0.9615 - val_loss: 1.1197 - val_accuracy: 0.4757\n",
            "Epoch 15/50\n",
            "80/80 [==============================] - 0s 5ms/step - loss: 0.1247 - accuracy: 0.9610 - val_loss: 1.1755 - val_accuracy: 0.4622\n",
            "Epoch 16/50\n",
            "80/80 [==============================] - 1s 7ms/step - loss: 0.1231 - accuracy: 0.9600 - val_loss: 1.2059 - val_accuracy: 0.4730\n",
            "Epoch 17/50\n",
            "80/80 [==============================] - 1s 7ms/step - loss: 0.1146 - accuracy: 0.9620 - val_loss: 1.2531 - val_accuracy: 0.4568\n",
            "Epoch 18/50\n",
            "80/80 [==============================] - 1s 7ms/step - loss: 0.1075 - accuracy: 0.9626 - val_loss: 1.2325 - val_accuracy: 0.4676\n",
            "Epoch 19/50\n",
            "80/80 [==============================] - 1s 14ms/step - loss: 0.1065 - accuracy: 0.9615 - val_loss: 1.2447 - val_accuracy: 0.4703\n",
            "Epoch 20/50\n",
            "80/80 [==============================] - 1s 7ms/step - loss: 0.0961 - accuracy: 0.9676 - val_loss: 1.2839 - val_accuracy: 0.4676\n",
            "Epoch 21/50\n",
            "80/80 [==============================] - 0s 5ms/step - loss: 0.0963 - accuracy: 0.9656 - val_loss: 1.3071 - val_accuracy: 0.4622\n",
            "Epoch 22/50\n",
            "80/80 [==============================] - 0s 6ms/step - loss: 0.0876 - accuracy: 0.9686 - val_loss: 1.2877 - val_accuracy: 0.4676\n",
            "Epoch 23/50\n",
            "80/80 [==============================] - 0s 6ms/step - loss: 0.0922 - accuracy: 0.9646 - val_loss: 1.2876 - val_accuracy: 0.4676\n",
            "Epoch 24/50\n",
            "80/80 [==============================] - 0s 6ms/step - loss: 0.0837 - accuracy: 0.9686 - val_loss: 1.3519 - val_accuracy: 0.4811\n",
            "Epoch 25/50\n",
            "80/80 [==============================] - 0s 5ms/step - loss: 0.0895 - accuracy: 0.9641 - val_loss: 1.3522 - val_accuracy: 0.4595\n",
            "Epoch 26/50\n",
            "80/80 [==============================] - 0s 5ms/step - loss: 0.0891 - accuracy: 0.9610 - val_loss: 1.2911 - val_accuracy: 0.4946\n",
            "Epoch 27/50\n",
            "80/80 [==============================] - 0s 5ms/step - loss: 0.0812 - accuracy: 0.9701 - val_loss: 1.4030 - val_accuracy: 0.4676\n",
            "Epoch 28/50\n",
            "80/80 [==============================] - 0s 5ms/step - loss: 0.0822 - accuracy: 0.9696 - val_loss: 1.3951 - val_accuracy: 0.4730\n",
            "Epoch 29/50\n",
            "80/80 [==============================] - 0s 5ms/step - loss: 0.0796 - accuracy: 0.9681 - val_loss: 1.5139 - val_accuracy: 0.4459\n",
            "Epoch 30/50\n",
            "80/80 [==============================] - 0s 5ms/step - loss: 0.0781 - accuracy: 0.9671 - val_loss: 1.3913 - val_accuracy: 0.4946\n",
            "Epoch 31/50\n",
            "80/80 [==============================] - 0s 5ms/step - loss: 0.0700 - accuracy: 0.9747 - val_loss: 1.4221 - val_accuracy: 0.4784\n",
            "Epoch 32/50\n",
            "80/80 [==============================] - 0s 5ms/step - loss: 0.0738 - accuracy: 0.9706 - val_loss: 1.3519 - val_accuracy: 0.4973\n",
            "Epoch 33/50\n",
            "80/80 [==============================] - 0s 5ms/step - loss: 0.0675 - accuracy: 0.9722 - val_loss: 1.4607 - val_accuracy: 0.4622\n",
            "Epoch 34/50\n",
            "80/80 [==============================] - 0s 5ms/step - loss: 0.0724 - accuracy: 0.9691 - val_loss: 1.4945 - val_accuracy: 0.4568\n",
            "Epoch 35/50\n",
            "80/80 [==============================] - 0s 5ms/step - loss: 0.0699 - accuracy: 0.9676 - val_loss: 1.4009 - val_accuracy: 0.4865\n",
            "Epoch 36/50\n",
            "80/80 [==============================] - 0s 5ms/step - loss: 0.0632 - accuracy: 0.9732 - val_loss: 1.3581 - val_accuracy: 0.5081\n",
            "Epoch 37/50\n",
            "80/80 [==============================] - 0s 5ms/step - loss: 0.0648 - accuracy: 0.9762 - val_loss: 1.4665 - val_accuracy: 0.4865\n",
            "Epoch 38/50\n",
            "80/80 [==============================] - 0s 5ms/step - loss: 0.0709 - accuracy: 0.9722 - val_loss: 1.4840 - val_accuracy: 0.4838\n",
            "Epoch 39/50\n",
            "80/80 [==============================] - 0s 6ms/step - loss: 0.0665 - accuracy: 0.9712 - val_loss: 1.4247 - val_accuracy: 0.5162\n",
            "Epoch 40/50\n",
            "80/80 [==============================] - 0s 5ms/step - loss: 0.0747 - accuracy: 0.9671 - val_loss: 1.5456 - val_accuracy: 0.4568\n",
            "Epoch 41/50\n",
            "80/80 [==============================] - 0s 5ms/step - loss: 0.0659 - accuracy: 0.9671 - val_loss: 1.4727 - val_accuracy: 0.5000\n",
            "Epoch 42/50\n",
            "80/80 [==============================] - 0s 6ms/step - loss: 0.0626 - accuracy: 0.9747 - val_loss: 1.4731 - val_accuracy: 0.4973\n",
            "Epoch 43/50\n",
            "80/80 [==============================] - 1s 7ms/step - loss: 0.0712 - accuracy: 0.9676 - val_loss: 1.5077 - val_accuracy: 0.4919\n",
            "Epoch 44/50\n",
            "80/80 [==============================] - 1s 7ms/step - loss: 0.0643 - accuracy: 0.9706 - val_loss: 1.5229 - val_accuracy: 0.4973\n",
            "Epoch 45/50\n",
            "80/80 [==============================] - 1s 6ms/step - loss: 0.0646 - accuracy: 0.9691 - val_loss: 1.5555 - val_accuracy: 0.4838\n",
            "Epoch 46/50\n",
            "80/80 [==============================] - 1s 7ms/step - loss: 0.0659 - accuracy: 0.9712 - val_loss: 1.5557 - val_accuracy: 0.4973\n",
            "Epoch 47/50\n",
            "80/80 [==============================] - 0s 5ms/step - loss: 0.0603 - accuracy: 0.9686 - val_loss: 1.6007 - val_accuracy: 0.4757\n",
            "Epoch 48/50\n",
            "80/80 [==============================] - 0s 5ms/step - loss: 0.0667 - accuracy: 0.9681 - val_loss: 1.7071 - val_accuracy: 0.4568\n",
            "Epoch 49/50\n",
            "80/80 [==============================] - 0s 5ms/step - loss: 0.0647 - accuracy: 0.9671 - val_loss: 1.6278 - val_accuracy: 0.4622\n",
            "Epoch 50/50\n",
            "80/80 [==============================] - 0s 5ms/step - loss: 0.0639 - accuracy: 0.9676 - val_loss: 1.5297 - val_accuracy: 0.5108\n"
          ]
        }
      ],
      "source": [
        "# Обучение модели сверточной нейронной сети подготовленных данных\n",
        "\n",
        "store_learning = model.fit(worker.x_tBOW,\n",
        "                           worker.y_train,\n",
        "                           validation_data=(worker.x_testBOW, worker.y_val),\n",
        "                           shuffle=True,\n",
        "                           batch_size=25,\n",
        "                           epochs=50, \n",
        "                           verbose=1)"
      ]
    },
    {
      "cell_type": "code",
      "execution_count": null,
      "metadata": {
        "colab": {
          "base_uri": "https://localhost:8080/",
          "height": 537
        },
        "outputId": "91abb923-5662-4d2f-e7ef-436f5f7070d5",
        "id": "BKO83UxIZNWL"
      },
      "outputs": [
        {
          "output_type": "stream",
          "name": "stdout",
          "text": [
            "График обучения:\n"
          ]
        },
        {
          "output_type": "display_data",
          "data": {
            "text/plain": [
              "<Figure size 864x576 with 1 Axes>"
            ],
            "image/png": "[encoded data removed]"
          },
          "metadata": {}
        },
        {
          "output_type": "stream",
          "name": "stdout",
          "text": [
            "Максимальная точность на обучающей выборке: 0.976\n",
            "Максимальная точность на проверочной выборке: 0.527\n"
          ]
        }
      ],
      "source": [
        "worker.show_learning_information(store_learning)"
      ]
    },
    {
      "cell_type": "markdown",
      "metadata": {
        "id": "RESgs3_1ZNWM"
      },
      "source": [
        "**Несколько запусков**"
      ]
    },
    {
      "cell_type": "code",
      "execution_count": null,
      "metadata": {
        "colab": {
          "base_uri": "https://localhost:8080/"
        },
        "outputId": "6c12b861-84c0-4503-d69e-bf3a6caaeee2",
        "id": "dcVwPnCVZNWM"
      },
      "outputs": [
        {
          "output_type": "stream",
          "name": "stdout",
          "text": [
            "\u001b[1m\u001b[94mОбучение №1 завершено. Результаты\u001b[0m\n",
            "Максимальная точность на обучающей выборке: 0.978\n",
            "Максимальная точность на проверочной выборке: 0.522\n",
            "\n",
            "\n",
            "\n",
            "\n",
            "\u001b[1m\u001b[94mОбучение №2 завершено. Результаты\u001b[0m\n",
            "Максимальная точность на обучающей выборке: 0.975\n",
            "Максимальная точность на проверочной выборке: 0.551\n",
            "\n",
            "\n",
            "\n",
            "\n",
            "\u001b[1m\u001b[94mОбучение №3 завершено. Результаты\u001b[0m\n",
            "Максимальная точность на обучающей выборке: 0.977\n",
            "Максимальная точность на проверочной выборке: 0.565\n",
            "\n",
            "\n",
            "\n",
            "\n",
            "\u001b[1m\u001b[94mОбучение №4 завершено. Результаты\u001b[0m\n",
            "Максимальная точность на обучающей выборке: 0.977\n",
            "Максимальная точность на проверочной выборке: 0.522\n",
            "\n",
            "\n",
            "\n",
            "\n",
            "\u001b[1m\u001b[94mОбучение №5 завершено. Результаты\u001b[0m\n",
            "Максимальная точность на обучающей выборке: 0.976\n",
            "Максимальная точность на проверочной выборке: 0.568\n",
            "\n",
            "\n",
            "\n",
            "\n",
            "\u001b[1m###############################################################################\u001b[0m\n",
            "\u001b[95m Финальные результаты\u001b[0m\n",
            "Средняя точность на обучающей выборке: 0.977\n",
            "Максимальная точность на обучающей выборке: 0.978\n",
            "Средняя точность на проверочной выборке: 0.545\n",
            "Максимальная точность на проверочной выборке: 0.568\n"
          ]
        }
      ],
      "source": [
        "worker.train_model(\n",
        "    funcModel=create_model,\n",
        "    count=5,\n",
        "    train_data=worker.x_tBOW,\n",
        "    test_data=worker.x_testBOW)"
      ]
    },
    {
      "cell_type": "markdown",
      "source": [
        "### **Эксп. №5 (Добавляем еще один Dense-слой) (64.9%)**"
      ],
      "metadata": {
        "id": "syDcUgbsZk92"
      }
    },
    {
      "cell_type": "code",
      "execution_count": null,
      "metadata": {
        "id": "V7S1KQWhZk93"
      },
      "outputs": [],
      "source": [
        "def create_model():\n",
        "  # Последовательная модель\n",
        "  model = Sequential()\n",
        "  # Входной полносвязный слой\n",
        "  model.add(Dense(64, input_dim=max_words_count, activation=\"relu\"))\n",
        "  model.add(Dense(128, activation='relu'))\n",
        "  # Второй полносвязный слой\n",
        "  model.add(Dense(1, activation='sigmoid'))\n",
        "\n",
        "  model.compile(optimizer=Adam(1e-4), \n",
        "                    loss='binary_crossentropy', \n",
        "                    metrics=['accuracy'])\n",
        "  # Компиляция модели\n",
        "  return model\n",
        "\n",
        "model = create_model()"
      ]
    },
    {
      "cell_type": "code",
      "execution_count": null,
      "metadata": {
        "colab": {
          "base_uri": "https://localhost:8080/"
        },
        "outputId": "84531213-6d07-4706-ba78-65a47d5fb07e",
        "id": "dpsO-lsMZk94"
      },
      "outputs": [
        {
          "output_type": "stream",
          "name": "stdout",
          "text": [
            "Epoch 1/50\n",
            "80/80 [==============================] - 2s 6ms/step - loss: 0.6873 - accuracy: 0.5850 - val_loss: 0.6719 - val_accuracy: 0.6486\n",
            "Epoch 2/50\n",
            "80/80 [==============================] - 0s 5ms/step - loss: 0.6628 - accuracy: 0.6012 - val_loss: 0.6602 - val_accuracy: 0.6514\n",
            "Epoch 3/50\n",
            "80/80 [==============================] - 0s 4ms/step - loss: 0.6296 - accuracy: 0.6123 - val_loss: 0.6592 - val_accuracy: 0.6432\n",
            "Epoch 4/50\n",
            "80/80 [==============================] - 0s 4ms/step - loss: 0.5801 - accuracy: 0.7348 - val_loss: 0.6695 - val_accuracy: 0.5973\n",
            "Epoch 5/50\n",
            "80/80 [==============================] - 0s 5ms/step - loss: 0.5062 - accuracy: 0.8097 - val_loss: 0.7080 - val_accuracy: 0.5189\n",
            "Epoch 6/50\n",
            "80/80 [==============================] - 0s 4ms/step - loss: 0.4226 - accuracy: 0.8634 - val_loss: 0.7673 - val_accuracy: 0.4892\n",
            "Epoch 7/50\n",
            "80/80 [==============================] - 0s 5ms/step - loss: 0.3470 - accuracy: 0.8957 - val_loss: 0.8429 - val_accuracy: 0.4757\n",
            "Epoch 8/50\n",
            "80/80 [==============================] - 0s 5ms/step - loss: 0.2873 - accuracy: 0.9119 - val_loss: 0.9566 - val_accuracy: 0.4622\n",
            "Epoch 9/50\n",
            "80/80 [==============================] - 0s 5ms/step - loss: 0.2397 - accuracy: 0.9261 - val_loss: 1.0505 - val_accuracy: 0.4595\n",
            "Epoch 10/50\n",
            "80/80 [==============================] - 0s 5ms/step - loss: 0.2030 - accuracy: 0.9372 - val_loss: 1.1583 - val_accuracy: 0.4514\n",
            "Epoch 11/50\n",
            "80/80 [==============================] - 0s 4ms/step - loss: 0.1750 - accuracy: 0.9464 - val_loss: 1.2530 - val_accuracy: 0.4486\n",
            "Epoch 12/50\n",
            "80/80 [==============================] - 0s 4ms/step - loss: 0.1529 - accuracy: 0.9524 - val_loss: 1.3187 - val_accuracy: 0.4568\n",
            "Epoch 13/50\n",
            "80/80 [==============================] - 0s 5ms/step - loss: 0.1366 - accuracy: 0.9534 - val_loss: 1.4009 - val_accuracy: 0.4595\n",
            "Epoch 14/50\n",
            "80/80 [==============================] - 0s 4ms/step - loss: 0.1229 - accuracy: 0.9570 - val_loss: 1.5310 - val_accuracy: 0.4486\n",
            "Epoch 15/50\n",
            "80/80 [==============================] - 0s 4ms/step - loss: 0.1126 - accuracy: 0.9605 - val_loss: 1.5397 - val_accuracy: 0.4595\n",
            "Epoch 16/50\n",
            "80/80 [==============================] - 0s 5ms/step - loss: 0.1046 - accuracy: 0.9620 - val_loss: 1.6269 - val_accuracy: 0.4649\n",
            "Epoch 17/50\n",
            "80/80 [==============================] - 0s 5ms/step - loss: 0.0968 - accuracy: 0.9631 - val_loss: 1.7284 - val_accuracy: 0.4568\n",
            "Epoch 18/50\n",
            "80/80 [==============================] - 1s 6ms/step - loss: 0.0907 - accuracy: 0.9661 - val_loss: 1.7664 - val_accuracy: 0.4622\n",
            "Epoch 19/50\n",
            "80/80 [==============================] - 1s 6ms/step - loss: 0.0858 - accuracy: 0.9671 - val_loss: 1.8933 - val_accuracy: 0.4838\n",
            "Epoch 20/50\n",
            "80/80 [==============================] - 1s 6ms/step - loss: 0.0811 - accuracy: 0.9691 - val_loss: 1.8905 - val_accuracy: 0.4595\n",
            "Epoch 21/50\n",
            "80/80 [==============================] - 1s 6ms/step - loss: 0.0772 - accuracy: 0.9706 - val_loss: 2.0018 - val_accuracy: 0.4811\n",
            "Epoch 22/50\n",
            "80/80 [==============================] - 0s 5ms/step - loss: 0.0736 - accuracy: 0.9706 - val_loss: 2.0182 - val_accuracy: 0.4622\n",
            "Epoch 23/50\n",
            "80/80 [==============================] - 0s 4ms/step - loss: 0.0710 - accuracy: 0.9712 - val_loss: 2.0927 - val_accuracy: 0.4811\n",
            "Epoch 24/50\n",
            "80/80 [==============================] - 0s 4ms/step - loss: 0.0681 - accuracy: 0.9722 - val_loss: 2.1821 - val_accuracy: 0.4784\n",
            "Epoch 25/50\n",
            "80/80 [==============================] - 0s 5ms/step - loss: 0.0661 - accuracy: 0.9727 - val_loss: 2.1805 - val_accuracy: 0.4757\n",
            "Epoch 26/50\n",
            "80/80 [==============================] - 0s 4ms/step - loss: 0.0640 - accuracy: 0.9717 - val_loss: 2.2628 - val_accuracy: 0.4784\n",
            "Epoch 27/50\n",
            "80/80 [==============================] - 0s 4ms/step - loss: 0.0621 - accuracy: 0.9717 - val_loss: 2.2966 - val_accuracy: 0.4811\n",
            "Epoch 28/50\n",
            "80/80 [==============================] - 0s 5ms/step - loss: 0.0607 - accuracy: 0.9732 - val_loss: 2.4069 - val_accuracy: 0.4757\n",
            "Epoch 29/50\n",
            "80/80 [==============================] - 0s 4ms/step - loss: 0.0591 - accuracy: 0.9732 - val_loss: 2.4220 - val_accuracy: 0.4811\n",
            "Epoch 30/50\n",
            "80/80 [==============================] - 0s 4ms/step - loss: 0.0581 - accuracy: 0.9742 - val_loss: 2.4627 - val_accuracy: 0.4811\n",
            "Epoch 31/50\n",
            "80/80 [==============================] - 0s 4ms/step - loss: 0.0566 - accuracy: 0.9732 - val_loss: 2.5790 - val_accuracy: 0.4865\n",
            "Epoch 32/50\n",
            "80/80 [==============================] - 0s 4ms/step - loss: 0.0557 - accuracy: 0.9732 - val_loss: 2.5979 - val_accuracy: 0.4865\n",
            "Epoch 33/50\n",
            "80/80 [==============================] - 0s 4ms/step - loss: 0.0544 - accuracy: 0.9747 - val_loss: 2.6087 - val_accuracy: 0.4811\n",
            "Epoch 34/50\n",
            "80/80 [==============================] - 0s 5ms/step - loss: 0.0534 - accuracy: 0.9752 - val_loss: 2.7151 - val_accuracy: 0.4892\n",
            "Epoch 35/50\n",
            "80/80 [==============================] - 0s 4ms/step - loss: 0.0531 - accuracy: 0.9752 - val_loss: 2.7582 - val_accuracy: 0.4919\n",
            "Epoch 36/50\n",
            "80/80 [==============================] - 0s 5ms/step - loss: 0.0526 - accuracy: 0.9752 - val_loss: 2.7521 - val_accuracy: 0.4892\n",
            "Epoch 37/50\n",
            "80/80 [==============================] - 0s 4ms/step - loss: 0.0513 - accuracy: 0.9757 - val_loss: 2.7892 - val_accuracy: 0.4892\n",
            "Epoch 38/50\n",
            "80/80 [==============================] - 0s 4ms/step - loss: 0.0512 - accuracy: 0.9747 - val_loss: 2.9069 - val_accuracy: 0.4892\n",
            "Epoch 39/50\n",
            "80/80 [==============================] - 0s 4ms/step - loss: 0.0509 - accuracy: 0.9752 - val_loss: 2.9315 - val_accuracy: 0.4892\n",
            "Epoch 40/50\n",
            "80/80 [==============================] - 0s 4ms/step - loss: 0.0499 - accuracy: 0.9757 - val_loss: 2.8549 - val_accuracy: 0.4865\n",
            "Epoch 41/50\n",
            "80/80 [==============================] - 0s 5ms/step - loss: 0.0495 - accuracy: 0.9752 - val_loss: 2.9846 - val_accuracy: 0.4892\n",
            "Epoch 42/50\n",
            "80/80 [==============================] - 0s 5ms/step - loss: 0.0492 - accuracy: 0.9752 - val_loss: 3.0446 - val_accuracy: 0.4892\n",
            "Epoch 43/50\n",
            "80/80 [==============================] - 0s 4ms/step - loss: 0.0485 - accuracy: 0.9747 - val_loss: 3.0054 - val_accuracy: 0.4946\n",
            "Epoch 44/50\n",
            "80/80 [==============================] - 0s 5ms/step - loss: 0.0482 - accuracy: 0.9757 - val_loss: 3.1288 - val_accuracy: 0.4892\n",
            "Epoch 45/50\n",
            "80/80 [==============================] - 0s 5ms/step - loss: 0.0484 - accuracy: 0.9752 - val_loss: 3.1299 - val_accuracy: 0.4865\n",
            "Epoch 46/50\n",
            "80/80 [==============================] - 0s 4ms/step - loss: 0.0478 - accuracy: 0.9757 - val_loss: 3.1703 - val_accuracy: 0.4892\n",
            "Epoch 47/50\n",
            "80/80 [==============================] - 0s 5ms/step - loss: 0.0468 - accuracy: 0.9747 - val_loss: 3.1657 - val_accuracy: 0.4865\n",
            "Epoch 48/50\n",
            "80/80 [==============================] - 0s 5ms/step - loss: 0.0477 - accuracy: 0.9757 - val_loss: 3.2368 - val_accuracy: 0.4892\n",
            "Epoch 49/50\n",
            "80/80 [==============================] - 0s 5ms/step - loss: 0.0468 - accuracy: 0.9757 - val_loss: 3.2285 - val_accuracy: 0.5027\n",
            "Epoch 50/50\n",
            "80/80 [==============================] - 1s 7ms/step - loss: 0.0467 - accuracy: 0.9752 - val_loss: 3.3084 - val_accuracy: 0.4892\n"
          ]
        }
      ],
      "source": [
        "# Обучение модели сверточной нейронной сети подготовленных данных\n",
        "\n",
        "store_learning = model.fit(worker.x_tBOW,\n",
        "                           worker.y_train,\n",
        "                           validation_data=(worker.x_testBOW, worker.y_val),\n",
        "                           shuffle=True,\n",
        "                           batch_size=25,\n",
        "                           epochs=50, \n",
        "                           verbose=1)"
      ]
    },
    {
      "cell_type": "code",
      "execution_count": null,
      "metadata": {
        "colab": {
          "base_uri": "https://localhost:8080/",
          "height": 537
        },
        "outputId": "319b6cac-0dde-4011-aa80-0ac74880255c",
        "id": "KuZho9mNZk94"
      },
      "outputs": [
        {
          "output_type": "stream",
          "name": "stdout",
          "text": [
            "График обучения:\n"
          ]
        },
        {
          "output_type": "display_data",
          "data": {
            "text/plain": [
              "<Figure size 864x576 with 1 Axes>"
            ],
            "image/png": "[encoded data removed]"
          },
          "metadata": {}
        },
        {
          "output_type": "stream",
          "name": "stdout",
          "text": [
            "Максимальная точность на обучающей выборке: 0.976\n",
            "Максимальная точность на проверочной выборке: 0.651\n"
          ]
        }
      ],
      "source": [
        "worker.show_learning_information(store_learning)"
      ]
    },
    {
      "cell_type": "markdown",
      "metadata": {
        "id": "3NXD7edMZk95"
      },
      "source": [
        "**Несколько запусков**"
      ]
    },
    {
      "cell_type": "code",
      "execution_count": null,
      "metadata": {
        "colab": {
          "base_uri": "https://localhost:8080/"
        },
        "outputId": "c02907ad-e988-4970-d122-f88ee714b2a4",
        "id": "7_KUoXX_Zk95"
      },
      "outputs": [
        {
          "output_type": "stream",
          "name": "stdout",
          "text": [
            "\u001b[1m\u001b[94mОбучение №1 завершено. Результаты\u001b[0m\n",
            "Максимальная точность на обучающей выборке: 0.976\n",
            "Максимальная точность на проверочной выборке: 0.649\n",
            "\n",
            "\n",
            "\n",
            "\n",
            "\u001b[1m\u001b[94mОбучение №2 завершено. Результаты\u001b[0m\n",
            "Максимальная точность на обучающей выборке: 0.976\n",
            "Максимальная точность на проверочной выборке: 0.614\n",
            "\n",
            "\n",
            "\n",
            "\n",
            "\u001b[1m\u001b[94mОбучение №3 завершено. Результаты\u001b[0m\n",
            "Максимальная точность на обучающей выборке: 0.976\n",
            "Максимальная точность на проверочной выборке: 0.646\n",
            "\n",
            "\n",
            "\n",
            "\n",
            "\u001b[1m\u001b[94mОбучение №4 завершено. Результаты\u001b[0m\n",
            "Максимальная точность на обучающей выборке: 0.976\n",
            "Максимальная точность на проверочной выборке: 0.649\n",
            "\n",
            "\n",
            "\n",
            "\n",
            "\u001b[1m\u001b[94mОбучение №5 завершено. Результаты\u001b[0m\n",
            "Максимальная точность на обучающей выборке: 0.976\n",
            "Максимальная точность на проверочной выборке: 0.641\n",
            "\n",
            "\n",
            "\n",
            "\n",
            "\u001b[1m###############################################################################\u001b[0m\n",
            "\u001b[95m Финальные результаты\u001b[0m\n",
            "Средняя точность на обучающей выборке: 0.976\n",
            "Максимальная точность на обучающей выборке: 0.976\n",
            "Средняя точность на проверочной выборке: 0.639\n",
            "Максимальная точность на проверочной выборке: 0.649\n"
          ]
        }
      ],
      "source": [
        "worker.train_model(\n",
        "    funcModel=create_model,\n",
        "    count=5,\n",
        "    train_data=worker.x_tBOW,\n",
        "    test_data=worker.x_testBOW)"
      ]
    },
    {
      "cell_type": "markdown",
      "source": [
        "### **Эксп. №6 (Эмбеддинг) (65.7%)**"
      ],
      "metadata": {
        "id": "2CwdlPjhd5Ty"
      }
    },
    {
      "cell_type": "code",
      "execution_count": null,
      "metadata": {
        "id": "96KqQQAwd5Tz"
      },
      "outputs": [],
      "source": [
        "def create_model():\n",
        "  model = Sequential()\n",
        "  model.add(Embedding(max_words_count, 32, input_length=padding_length))\n",
        "  model.add(Flatten())\n",
        "  model.add(Dense(1, activation='sigmoid'))\n",
        "\n",
        "  model.compile(optimizer=Adam(2e-3), loss='binary_crossentropy', metrics=['accuracy'])\n",
        "\n",
        "  # Компиляция модели\n",
        "  return model\n",
        "\n",
        "model = create_model()"
      ]
    },
    {
      "cell_type": "code",
      "execution_count": null,
      "metadata": {
        "colab": {
          "base_uri": "https://localhost:8080/"
        },
        "outputId": "6fda5b2e-4313-4475-ab9b-60cd902a1fae",
        "id": "VVtg7ID-d5T0"
      },
      "outputs": [
        {
          "output_type": "stream",
          "name": "stdout",
          "text": [
            "Epoch 1/50\n",
            "80/80 [==============================] - 12s 135ms/step - loss: 0.6698 - accuracy: 0.5886 - val_loss: 0.6776 - val_accuracy: 0.6324\n",
            "Epoch 2/50\n",
            "80/80 [==============================] - 6s 75ms/step - loss: 0.5248 - accuracy: 0.7859 - val_loss: 0.6735 - val_accuracy: 0.6135\n",
            "Epoch 3/50\n",
            "80/80 [==============================] - 4s 44ms/step - loss: 0.3198 - accuracy: 0.9124 - val_loss: 0.6808 - val_accuracy: 0.5784\n",
            "Epoch 4/50\n",
            "80/80 [==============================] - 3s 35ms/step - loss: 0.1860 - accuracy: 0.9550 - val_loss: 0.7054 - val_accuracy: 0.6162\n",
            "Epoch 5/50\n",
            "80/80 [==============================] - 3s 32ms/step - loss: 0.1272 - accuracy: 0.9661 - val_loss: 0.7256 - val_accuracy: 0.6081\n",
            "Epoch 6/50\n",
            "80/80 [==============================] - 2s 22ms/step - loss: 0.0987 - accuracy: 0.9671 - val_loss: 0.7894 - val_accuracy: 0.6081\n",
            "Epoch 7/50\n",
            "80/80 [==============================] - 2s 23ms/step - loss: 0.0816 - accuracy: 0.9717 - val_loss: 0.7956 - val_accuracy: 0.5973\n",
            "Epoch 8/50\n",
            "80/80 [==============================] - 1s 15ms/step - loss: 0.0710 - accuracy: 0.9732 - val_loss: 0.8280 - val_accuracy: 0.6216\n",
            "Epoch 9/50\n",
            "80/80 [==============================] - 1s 10ms/step - loss: 0.0656 - accuracy: 0.9727 - val_loss: 0.8513 - val_accuracy: 0.6135\n",
            "Epoch 10/50\n",
            "80/80 [==============================] - 1s 15ms/step - loss: 0.0624 - accuracy: 0.9727 - val_loss: 0.8617 - val_accuracy: 0.6108\n",
            "Epoch 11/50\n",
            "80/80 [==============================] - 1s 6ms/step - loss: 0.0626 - accuracy: 0.9752 - val_loss: 0.8873 - val_accuracy: 0.5865\n",
            "Epoch 12/50\n",
            "80/80 [==============================] - 1s 12ms/step - loss: 0.0579 - accuracy: 0.9727 - val_loss: 0.8883 - val_accuracy: 0.6108\n",
            "Epoch 13/50\n",
            "80/80 [==============================] - 1s 10ms/step - loss: 0.0527 - accuracy: 0.9757 - val_loss: 0.9066 - val_accuracy: 0.6000\n",
            "Epoch 14/50\n",
            "80/80 [==============================] - 1s 8ms/step - loss: 0.0515 - accuracy: 0.9722 - val_loss: 0.9281 - val_accuracy: 0.6162\n",
            "Epoch 15/50\n",
            "80/80 [==============================] - 1s 8ms/step - loss: 0.0498 - accuracy: 0.9762 - val_loss: 0.9379 - val_accuracy: 0.5973\n",
            "Epoch 16/50\n",
            "80/80 [==============================] - 1s 12ms/step - loss: 0.0497 - accuracy: 0.9747 - val_loss: 0.9477 - val_accuracy: 0.6000\n",
            "Epoch 17/50\n",
            "80/80 [==============================] - 1s 18ms/step - loss: 0.0548 - accuracy: 0.9717 - val_loss: 0.9832 - val_accuracy: 0.5703\n",
            "Epoch 18/50\n",
            "80/80 [==============================] - 1s 11ms/step - loss: 0.0489 - accuracy: 0.9752 - val_loss: 0.9789 - val_accuracy: 0.6000\n",
            "Epoch 19/50\n",
            "80/80 [==============================] - 1s 10ms/step - loss: 0.0469 - accuracy: 0.9747 - val_loss: 0.9898 - val_accuracy: 0.5892\n",
            "Epoch 20/50\n",
            "80/80 [==============================] - 1s 10ms/step - loss: 0.0477 - accuracy: 0.9712 - val_loss: 0.9947 - val_accuracy: 0.5865\n",
            "Epoch 21/50\n",
            "80/80 [==============================] - 1s 12ms/step - loss: 0.0450 - accuracy: 0.9767 - val_loss: 1.0085 - val_accuracy: 0.5973\n",
            "Epoch 22/50\n",
            "80/80 [==============================] - 0s 6ms/step - loss: 0.0456 - accuracy: 0.9712 - val_loss: 1.0151 - val_accuracy: 0.6000\n",
            "Epoch 23/50\n",
            "80/80 [==============================] - 1s 12ms/step - loss: 0.0450 - accuracy: 0.9752 - val_loss: 1.0273 - val_accuracy: 0.5892\n",
            "Epoch 24/50\n",
            "80/80 [==============================] - 1s 10ms/step - loss: 0.0453 - accuracy: 0.9767 - val_loss: 1.0406 - val_accuracy: 0.6135\n",
            "Epoch 25/50\n",
            "80/80 [==============================] - 0s 6ms/step - loss: 0.0458 - accuracy: 0.9722 - val_loss: 1.0491 - val_accuracy: 0.5973\n",
            "Epoch 26/50\n",
            "80/80 [==============================] - 0s 4ms/step - loss: 0.0448 - accuracy: 0.9727 - val_loss: 1.0578 - val_accuracy: 0.5919\n",
            "Epoch 27/50\n",
            "80/80 [==============================] - 0s 6ms/step - loss: 0.0437 - accuracy: 0.9772 - val_loss: 1.0685 - val_accuracy: 0.6135\n",
            "Epoch 28/50\n",
            "80/80 [==============================] - 0s 6ms/step - loss: 0.0458 - accuracy: 0.9722 - val_loss: 1.0765 - val_accuracy: 0.5919\n",
            "Epoch 29/50\n",
            "80/80 [==============================] - 1s 8ms/step - loss: 0.0436 - accuracy: 0.9762 - val_loss: 1.0762 - val_accuracy: 0.5973\n",
            "Epoch 30/50\n",
            "80/80 [==============================] - 0s 6ms/step - loss: 0.0448 - accuracy: 0.9737 - val_loss: 1.0844 - val_accuracy: 0.5946\n",
            "Epoch 31/50\n",
            "80/80 [==============================] - 1s 7ms/step - loss: 0.0434 - accuracy: 0.9752 - val_loss: 1.0997 - val_accuracy: 0.5919\n",
            "Epoch 32/50\n",
            "80/80 [==============================] - 0s 6ms/step - loss: 0.0437 - accuracy: 0.9772 - val_loss: 1.1038 - val_accuracy: 0.5946\n",
            "Epoch 33/50\n",
            "80/80 [==============================] - 0s 6ms/step - loss: 0.0443 - accuracy: 0.9737 - val_loss: 1.1133 - val_accuracy: 0.5919\n",
            "Epoch 34/50\n",
            "80/80 [==============================] - 1s 10ms/step - loss: 0.0433 - accuracy: 0.9732 - val_loss: 1.1226 - val_accuracy: 0.5865\n",
            "Epoch 35/50\n",
            "80/80 [==============================] - 0s 5ms/step - loss: 0.0452 - accuracy: 0.9752 - val_loss: 1.1358 - val_accuracy: 0.5784\n",
            "Epoch 36/50\n",
            "80/80 [==============================] - 1s 9ms/step - loss: 0.0490 - accuracy: 0.9722 - val_loss: 1.1397 - val_accuracy: 0.5811\n",
            "Epoch 37/50\n",
            "80/80 [==============================] - 0s 6ms/step - loss: 0.0423 - accuracy: 0.9767 - val_loss: 1.1409 - val_accuracy: 0.5838\n",
            "Epoch 38/50\n",
            "80/80 [==============================] - 0s 6ms/step - loss: 0.0436 - accuracy: 0.9747 - val_loss: 1.1501 - val_accuracy: 0.5838\n",
            "Epoch 39/50\n",
            "80/80 [==============================] - 0s 4ms/step - loss: 0.0425 - accuracy: 0.9737 - val_loss: 1.1636 - val_accuracy: 0.5865\n",
            "Epoch 40/50\n",
            "80/80 [==============================] - 0s 4ms/step - loss: 0.0434 - accuracy: 0.9742 - val_loss: 1.1694 - val_accuracy: 0.5865\n",
            "Epoch 41/50\n",
            "80/80 [==============================] - 0s 4ms/step - loss: 0.0430 - accuracy: 0.9767 - val_loss: 1.1729 - val_accuracy: 0.5838\n",
            "Epoch 42/50\n",
            "80/80 [==============================] - 0s 4ms/step - loss: 0.0425 - accuracy: 0.9742 - val_loss: 1.1807 - val_accuracy: 0.6027\n",
            "Epoch 43/50\n",
            "80/80 [==============================] - 0s 6ms/step - loss: 0.0488 - accuracy: 0.9701 - val_loss: 1.1798 - val_accuracy: 0.5784\n",
            "Epoch 44/50\n",
            "80/80 [==============================] - 0s 6ms/step - loss: 0.0424 - accuracy: 0.9767 - val_loss: 1.1905 - val_accuracy: 0.5784\n",
            "Epoch 45/50\n",
            "80/80 [==============================] - 0s 6ms/step - loss: 0.0424 - accuracy: 0.9762 - val_loss: 1.1910 - val_accuracy: 0.5946\n",
            "Epoch 46/50\n",
            "80/80 [==============================] - 0s 4ms/step - loss: 0.0462 - accuracy: 0.9757 - val_loss: 1.2126 - val_accuracy: 0.5811\n",
            "Epoch 47/50\n",
            "80/80 [==============================] - 0s 4ms/step - loss: 0.0425 - accuracy: 0.9757 - val_loss: 1.2146 - val_accuracy: 0.5838\n",
            "Epoch 48/50\n",
            "80/80 [==============================] - 0s 4ms/step - loss: 0.0421 - accuracy: 0.9752 - val_loss: 1.2203 - val_accuracy: 0.5784\n",
            "Epoch 49/50\n",
            "80/80 [==============================] - 1s 8ms/step - loss: 0.0420 - accuracy: 0.9752 - val_loss: 1.2231 - val_accuracy: 0.5757\n",
            "Epoch 50/50\n",
            "80/80 [==============================] - 0s 4ms/step - loss: 0.0423 - accuracy: 0.9722 - val_loss: 1.2439 - val_accuracy: 0.5757\n"
          ]
        }
      ],
      "source": [
        "# Обучение модели сверточной нейронной сети подготовленных данных\n",
        "\n",
        "store_learning = model.fit(worker.x_trainE,\n",
        "                           worker.y_train,\n",
        "                           validation_data=(worker.x_testE, worker.y_val),\n",
        "                           shuffle=True,\n",
        "                           batch_size=25,\n",
        "                           epochs=50, \n",
        "                           verbose=1)"
      ]
    },
    {
      "cell_type": "code",
      "execution_count": null,
      "metadata": {
        "colab": {
          "base_uri": "https://localhost:8080/",
          "height": 535
        },
        "outputId": "ba8f367d-680f-4bbd-c737-3cfa332ca1a4",
        "id": "TeUHIhtfd5T1"
      },
      "outputs": [
        {
          "output_type": "stream",
          "name": "stdout",
          "text": [
            "График обучения:\n"
          ]
        },
        {
          "output_type": "display_data",
          "data": {
            "text/plain": [
              "<Figure size 864x576 with 1 Axes>"
            ],
            "image/png": "[encoded data removed]"
          },
          "metadata": {}
        },
        {
          "output_type": "stream",
          "name": "stdout",
          "text": [
            "Максимальная точность на обучающей выборке: 0.977\n",
            "Максимальная точность на проверочной выборке: 0.632\n"
          ]
        }
      ],
      "source": [
        "worker.show_learning_information(store_learning)"
      ]
    },
    {
      "cell_type": "markdown",
      "metadata": {
        "id": "EYV1jVrFd5T1"
      },
      "source": [
        "**Несколько запусков**"
      ]
    },
    {
      "cell_type": "code",
      "execution_count": null,
      "metadata": {
        "colab": {
          "base_uri": "https://localhost:8080/"
        },
        "outputId": "d132e658-e8b2-42ca-9a51-36636f4202d2",
        "id": "Z2AICvSCd5T1"
      },
      "outputs": [
        {
          "output_type": "stream",
          "name": "stdout",
          "text": [
            "\u001b[1m\u001b[94mОбучение №1 завершено. Результаты\u001b[0m\n",
            "Максимальная точность на обучающей выборке: 0.977\n",
            "Максимальная точность на проверочной выборке: 0.657\n",
            "\n",
            "\n",
            "\n",
            "\n",
            "\u001b[1m\u001b[94mОбучение №2 завершено. Результаты\u001b[0m\n",
            "Максимальная точность на обучающей выборке: 0.979\n",
            "Максимальная точность на проверочной выборке: 0.654\n",
            "\n",
            "\n",
            "\n",
            "\n",
            "\u001b[1m\u001b[94mОбучение №3 завершено. Результаты\u001b[0m\n",
            "Максимальная точность на обучающей выборке: 0.977\n",
            "Максимальная точность на проверочной выборке: 0.654\n",
            "\n",
            "\n",
            "\n",
            "\n",
            "\u001b[1m\u001b[94mОбучение №4 завершено. Результаты\u001b[0m\n",
            "Максимальная точность на обучающей выборке: 0.979\n",
            "Максимальная точность на проверочной выборке: 0.651\n",
            "\n",
            "\n",
            "\n",
            "\n",
            "\u001b[1m\u001b[94mОбучение №5 завершено. Результаты\u001b[0m\n",
            "Максимальная точность на обучающей выборке: 0.977\n",
            "Максимальная точность на проверочной выборке: 0.649\n",
            "\n",
            "\n",
            "\n",
            "\n",
            "\u001b[1m###############################################################################\u001b[0m\n",
            "\u001b[95m Финальные результаты\u001b[0m\n",
            "Средняя точность на обучающей выборке: 0.978\n",
            "Максимальная точность на обучающей выборке: 0.979\n",
            "Средняя точность на проверочной выборке: 0.653\n",
            "Максимальная точность на проверочной выборке: 0.657\n"
          ]
        }
      ],
      "source": [
        "worker.train_model(\n",
        "    funcModel=create_model,\n",
        "    count=5,\n",
        "    train_data=worker.x_trainE,\n",
        "    test_data=worker.x_testE)"
      ]
    },
    {
      "cell_type": "markdown",
      "source": [
        "### **Эксп. №7 (Усиливаем Эмбеддинг) (66.5%)**"
      ],
      "metadata": {
        "id": "qDd-CCRA1p6L"
      }
    },
    {
      "cell_type": "code",
      "execution_count": null,
      "metadata": {
        "id": "qAiDJdIr1p6M"
      },
      "outputs": [],
      "source": [
        "def create_model():\n",
        "  model = Sequential()\n",
        "  model.add(Embedding(max_words_count, 128, input_length=padding_length))\n",
        "  model.add(Flatten())\n",
        "  model.add(Dense(1, activation='sigmoid'))\n",
        "\n",
        "  model.compile(optimizer=Adam(2e-3), loss='binary_crossentropy', metrics=['accuracy'])\n",
        "\n",
        "  # Компиляция модели\n",
        "  return model\n",
        "\n",
        "model = create_model()"
      ]
    },
    {
      "cell_type": "code",
      "execution_count": null,
      "metadata": {
        "colab": {
          "base_uri": "https://localhost:8080/"
        },
        "outputId": "7f0b0be8-4975-4994-bd09-fdaff14740aa",
        "id": "4bsz3KS41p6M"
      },
      "outputs": [
        {
          "output_type": "stream",
          "name": "stdout",
          "text": [
            "Epoch 1/50\n",
            "80/80 [==============================] - 10s 117ms/step - loss: 0.6394 - accuracy: 0.6326 - val_loss: 0.6675 - val_accuracy: 0.6378\n",
            "Epoch 2/50\n",
            "80/80 [==============================] - 6s 74ms/step - loss: 0.3003 - accuracy: 0.9150 - val_loss: 0.7070 - val_accuracy: 0.5946\n",
            "Epoch 3/50\n",
            "80/80 [==============================] - 3s 41ms/step - loss: 0.1194 - accuracy: 0.9641 - val_loss: 0.7530 - val_accuracy: 0.6432\n",
            "Epoch 4/50\n",
            "80/80 [==============================] - 3s 37ms/step - loss: 0.0816 - accuracy: 0.9701 - val_loss: 0.8098 - val_accuracy: 0.5946\n",
            "Epoch 5/50\n",
            "80/80 [==============================] - 2s 27ms/step - loss: 0.0664 - accuracy: 0.9727 - val_loss: 0.8434 - val_accuracy: 0.5973\n",
            "Epoch 6/50\n",
            "80/80 [==============================] - 2s 22ms/step - loss: 0.0592 - accuracy: 0.9696 - val_loss: 0.8723 - val_accuracy: 0.6027\n",
            "Epoch 7/50\n",
            "80/80 [==============================] - 2s 22ms/step - loss: 0.0552 - accuracy: 0.9671 - val_loss: 0.9038 - val_accuracy: 0.5919\n",
            "Epoch 8/50\n",
            "80/80 [==============================] - 1s 15ms/step - loss: 0.0515 - accuracy: 0.9772 - val_loss: 0.9262 - val_accuracy: 0.6135\n",
            "Epoch 9/50\n",
            "80/80 [==============================] - 2s 19ms/step - loss: 0.0492 - accuracy: 0.9752 - val_loss: 0.9586 - val_accuracy: 0.5973\n",
            "Epoch 10/50\n",
            "80/80 [==============================] - 1s 8ms/step - loss: 0.0510 - accuracy: 0.9747 - val_loss: 0.9748 - val_accuracy: 0.5919\n",
            "Epoch 11/50\n",
            "80/80 [==============================] - 1s 14ms/step - loss: 0.0472 - accuracy: 0.9752 - val_loss: 0.9919 - val_accuracy: 0.5919\n",
            "Epoch 12/50\n",
            "80/80 [==============================] - 1s 12ms/step - loss: 0.0498 - accuracy: 0.9717 - val_loss: 1.0091 - val_accuracy: 0.5892\n",
            "Epoch 13/50\n",
            "80/80 [==============================] - 1s 12ms/step - loss: 0.0486 - accuracy: 0.9742 - val_loss: 1.0223 - val_accuracy: 0.5973\n",
            "Epoch 14/50\n",
            "80/80 [==============================] - 1s 14ms/step - loss: 0.0459 - accuracy: 0.9717 - val_loss: 1.0543 - val_accuracy: 0.5730\n",
            "Epoch 15/50\n",
            "80/80 [==============================] - 1s 16ms/step - loss: 0.0453 - accuracy: 0.9772 - val_loss: 1.0510 - val_accuracy: 0.5784\n",
            "Epoch 16/50\n",
            "80/80 [==============================] - 0s 6ms/step - loss: 0.0464 - accuracy: 0.9777 - val_loss: 1.0817 - val_accuracy: 0.5946\n",
            "Epoch 17/50\n",
            "80/80 [==============================] - 1s 8ms/step - loss: 0.0468 - accuracy: 0.9737 - val_loss: 1.0811 - val_accuracy: 0.5892\n",
            "Epoch 18/50\n",
            "80/80 [==============================] - 1s 15ms/step - loss: 0.0470 - accuracy: 0.9727 - val_loss: 1.0984 - val_accuracy: 0.5622\n",
            "Epoch 19/50\n",
            "80/80 [==============================] - 1s 8ms/step - loss: 0.0456 - accuracy: 0.9752 - val_loss: 1.1251 - val_accuracy: 0.5730\n",
            "Epoch 20/50\n",
            "80/80 [==============================] - 1s 8ms/step - loss: 0.0466 - accuracy: 0.9732 - val_loss: 1.1228 - val_accuracy: 0.5757\n",
            "Epoch 21/50\n",
            "80/80 [==============================] - 1s 10ms/step - loss: 0.0481 - accuracy: 0.9752 - val_loss: 1.1420 - val_accuracy: 0.5784\n",
            "Epoch 22/50\n",
            "80/80 [==============================] - 1s 8ms/step - loss: 0.0446 - accuracy: 0.9742 - val_loss: 1.1696 - val_accuracy: 0.5595\n",
            "Epoch 23/50\n",
            "80/80 [==============================] - 1s 10ms/step - loss: 0.0450 - accuracy: 0.9742 - val_loss: 1.1600 - val_accuracy: 0.5757\n",
            "Epoch 24/50\n",
            "80/80 [==============================] - 0s 6ms/step - loss: 0.0434 - accuracy: 0.9752 - val_loss: 1.1723 - val_accuracy: 0.5730\n",
            "Epoch 25/50\n",
            "80/80 [==============================] - 1s 9ms/step - loss: 0.0452 - accuracy: 0.9742 - val_loss: 1.1555 - val_accuracy: 0.5946\n",
            "Epoch 26/50\n",
            "80/80 [==============================] - 1s 8ms/step - loss: 0.0457 - accuracy: 0.9742 - val_loss: 1.1987 - val_accuracy: 0.5730\n",
            "Epoch 27/50\n",
            "80/80 [==============================] - 0s 6ms/step - loss: 0.0438 - accuracy: 0.9762 - val_loss: 1.1835 - val_accuracy: 0.5703\n",
            "Epoch 28/50\n",
            "80/80 [==============================] - 1s 7ms/step - loss: 0.0466 - accuracy: 0.9752 - val_loss: 1.1982 - val_accuracy: 0.5865\n",
            "Epoch 29/50\n",
            "80/80 [==============================] - 1s 8ms/step - loss: 0.0464 - accuracy: 0.9727 - val_loss: 1.2229 - val_accuracy: 0.5730\n",
            "Epoch 30/50\n",
            "80/80 [==============================] - 0s 6ms/step - loss: 0.0437 - accuracy: 0.9742 - val_loss: 1.2539 - val_accuracy: 0.5649\n",
            "Epoch 31/50\n",
            "80/80 [==============================] - 0s 6ms/step - loss: 0.0433 - accuracy: 0.9757 - val_loss: 1.2314 - val_accuracy: 0.5811\n",
            "Epoch 32/50\n",
            "80/80 [==============================] - 1s 10ms/step - loss: 0.0464 - accuracy: 0.9752 - val_loss: 1.2340 - val_accuracy: 0.5946\n",
            "Epoch 33/50\n",
            "80/80 [==============================] - 1s 9ms/step - loss: 0.0436 - accuracy: 0.9752 - val_loss: 1.2733 - val_accuracy: 0.5703\n",
            "Epoch 34/50\n",
            "80/80 [==============================] - 1s 9ms/step - loss: 0.0437 - accuracy: 0.9747 - val_loss: 1.2459 - val_accuracy: 0.5838\n",
            "Epoch 35/50\n",
            "80/80 [==============================] - 1s 12ms/step - loss: 0.0434 - accuracy: 0.9757 - val_loss: 1.3012 - val_accuracy: 0.5757\n",
            "Epoch 36/50\n",
            "80/80 [==============================] - 0s 4ms/step - loss: 0.0432 - accuracy: 0.9757 - val_loss: 1.2903 - val_accuracy: 0.5811\n",
            "Epoch 37/50\n",
            "80/80 [==============================] - 0s 6ms/step - loss: 0.0427 - accuracy: 0.9757 - val_loss: 1.2707 - val_accuracy: 0.5946\n",
            "Epoch 38/50\n",
            "80/80 [==============================] - 0s 4ms/step - loss: 0.0424 - accuracy: 0.9767 - val_loss: 1.3644 - val_accuracy: 0.5676\n",
            "Epoch 39/50\n",
            "80/80 [==============================] - 0s 4ms/step - loss: 0.0443 - accuracy: 0.9747 - val_loss: 1.3273 - val_accuracy: 0.5784\n",
            "Epoch 40/50\n",
            "80/80 [==============================] - 1s 6ms/step - loss: 0.0447 - accuracy: 0.9742 - val_loss: 1.3392 - val_accuracy: 0.5703\n",
            "Epoch 41/50\n",
            "80/80 [==============================] - 1s 8ms/step - loss: 0.0436 - accuracy: 0.9762 - val_loss: 1.2945 - val_accuracy: 0.5865\n",
            "Epoch 42/50\n",
            "80/80 [==============================] - 0s 5ms/step - loss: 0.0439 - accuracy: 0.9752 - val_loss: 1.3342 - val_accuracy: 0.5703\n",
            "Epoch 43/50\n",
            "80/80 [==============================] - 1s 11ms/step - loss: 0.0432 - accuracy: 0.9737 - val_loss: 1.3940 - val_accuracy: 0.5730\n",
            "Epoch 44/50\n",
            "80/80 [==============================] - 0s 6ms/step - loss: 0.0434 - accuracy: 0.9747 - val_loss: 1.3152 - val_accuracy: 0.5892\n",
            "Epoch 45/50\n",
            "80/80 [==============================] - 1s 9ms/step - loss: 0.0433 - accuracy: 0.9742 - val_loss: 1.4263 - val_accuracy: 0.5514\n",
            "Epoch 46/50\n",
            "80/80 [==============================] - 0s 6ms/step - loss: 0.0453 - accuracy: 0.9757 - val_loss: 1.3613 - val_accuracy: 0.5649\n",
            "Epoch 47/50\n",
            "80/80 [==============================] - 0s 6ms/step - loss: 0.0449 - accuracy: 0.9752 - val_loss: 1.3501 - val_accuracy: 0.5784\n",
            "Epoch 48/50\n",
            "80/80 [==============================] - 0s 6ms/step - loss: 0.0439 - accuracy: 0.9747 - val_loss: 1.3714 - val_accuracy: 0.5622\n",
            "Epoch 49/50\n",
            "80/80 [==============================] - 1s 6ms/step - loss: 0.0440 - accuracy: 0.9727 - val_loss: 1.3585 - val_accuracy: 0.5703\n",
            "Epoch 50/50\n",
            "80/80 [==============================] - 0s 6ms/step - loss: 0.0425 - accuracy: 0.9772 - val_loss: 1.3373 - val_accuracy: 0.5730\n"
          ]
        }
      ],
      "source": [
        "# Обучение модели сверточной нейронной сети подготовленных данных\n",
        "\n",
        "store_learning = model.fit(worker.x_trainE,\n",
        "                           worker.y_train,\n",
        "                           validation_data=(worker.x_testE, worker.y_val),\n",
        "                           shuffle=True,\n",
        "                           batch_size=25,\n",
        "                           epochs=50, \n",
        "                           verbose=1)"
      ]
    },
    {
      "cell_type": "code",
      "execution_count": null,
      "metadata": {
        "colab": {
          "base_uri": "https://localhost:8080/",
          "height": 535
        },
        "outputId": "fb079560-e495-4cac-a39a-38fc5ef0a88a",
        "id": "9fF03x941p6N"
      },
      "outputs": [
        {
          "output_type": "stream",
          "name": "stdout",
          "text": [
            "График обучения:\n"
          ]
        },
        {
          "output_type": "display_data",
          "data": {
            "text/plain": [
              "<Figure size 864x576 with 1 Axes>"
            ],
            "image/png": "[encoded data removed]"
          },
          "metadata": {}
        },
        {
          "output_type": "stream",
          "name": "stdout",
          "text": [
            "Максимальная точность на обучающей выборке: 0.978\n",
            "Максимальная точность на проверочной выборке: 0.643\n"
          ]
        }
      ],
      "source": [
        "worker.show_learning_information(store_learning)"
      ]
    },
    {
      "cell_type": "markdown",
      "metadata": {
        "id": "gV6VNU-B1p6N"
      },
      "source": [
        "**Несколько запусков**"
      ]
    },
    {
      "cell_type": "code",
      "execution_count": null,
      "metadata": {
        "colab": {
          "base_uri": "https://localhost:8080/"
        },
        "outputId": "6371124f-cf8b-444b-c739-1339228ae069",
        "id": "c289qG_41p6O"
      },
      "outputs": [
        {
          "metadata": {
            "tags": null
          },
          "name": "stdout",
          "output_type": "stream",
          "text": [
            "\u001b[1m\u001b[94mОбучение №1 завершено. Результаты\u001b[0m\n",
            "Максимальная точность на обучающей выборке: 0.977\n",
            "Максимальная точность на проверочной выборке: 0.665\n",
            "\n",
            "\n",
            "\n",
            "\n",
            "\u001b[1m\u001b[94mОбучение №2 завершено. Результаты\u001b[0m\n",
            "Максимальная точность на обучающей выборке: 0.978\n",
            "Максимальная точность на проверочной выборке: 0.627\n",
            "\n",
            "\n",
            "\n",
            "\n",
            "\u001b[1m\u001b[94mОбучение №3 завершено. Результаты\u001b[0m\n",
            "Максимальная точность на обучающей выборке: 0.977\n",
            "Максимальная точность на проверочной выборке: 0.643\n",
            "\n",
            "\n",
            "\n",
            "\n",
            "\u001b[1m\u001b[94mОбучение №4 завершено. Результаты\u001b[0m\n",
            "Максимальная точность на обучающей выборке: 0.978\n",
            "Максимальная точность на проверочной выборке: 0.632\n",
            "\n",
            "\n",
            "\n",
            "\n",
            "\u001b[1m\u001b[94mОбучение №5 завершено. Результаты\u001b[0m\n",
            "Максимальная точность на обучающей выборке: 0.977\n",
            "Максимальная точность на проверочной выборке: 0.635\n",
            "\n",
            "\n",
            "\n",
            "\n",
            "\u001b[1m###############################################################################\u001b[0m\n",
            "\u001b[95m Финальные результаты\u001b[0m\n",
            "Средняя точность на обучающей выборке: 0.977\n",
            "Максимальная точность на обучающей выборке: 0.978\n",
            "Средняя точность на проверочной выборке: 0.641\n",
            "Максимальная точность на проверочной выборке: 0.665\n"
          ]
        }
      ],
      "source": [
        "worker.train_model(\n",
        "    funcModel=create_model,\n",
        "    count=5,\n",
        "    train_data=worker.x_trainE,\n",
        "    test_data=worker.x_testE)"
      ]
    },
    {
      "cell_type": "markdown",
      "source": [
        "### **Эксп. №8 (Усиливаем Эмбеддинг) (70%)**"
      ],
      "metadata": {
        "id": "Aj7rLccZe2NH"
      }
    },
    {
      "cell_type": "code",
      "execution_count": null,
      "metadata": {
        "id": "AERBM6eue2NI"
      },
      "outputs": [],
      "source": [
        "def create_model():\n",
        "  model = Sequential()\n",
        "  model.add(Embedding(max_words_count, 256, input_length=padding_length))\n",
        "  model.add(Flatten())\n",
        "  model.add(Dense(1, activation='sigmoid'))\n",
        "\n",
        "  model.compile(optimizer=Adam(2e-3), loss='binary_crossentropy', metrics=['accuracy'])\n",
        "\n",
        "  # Компиляция модели\n",
        "  return model\n",
        "\n",
        "model = create_model()"
      ]
    },
    {
      "cell_type": "code",
      "execution_count": null,
      "metadata": {
        "colab": {
          "base_uri": "https://localhost:8080/"
        },
        "outputId": "b2c5700d-007c-4318-c1e8-ef82eccb1939",
        "id": "-giyxXcKe2NI"
      },
      "outputs": [
        {
          "output_type": "stream",
          "name": "stdout",
          "text": [
            "Epoch 1/50\n",
            "80/80 [==============================] - 12s 136ms/step - loss: 0.6473 - accuracy: 0.6245 - val_loss: 0.6632 - val_accuracy: 0.6486\n",
            "Epoch 2/50\n",
            "80/80 [==============================] - 9s 111ms/step - loss: 0.3746 - accuracy: 0.8750 - val_loss: 0.6934 - val_accuracy: 0.5973\n",
            "Epoch 3/50\n",
            "80/80 [==============================] - 4s 46ms/step - loss: 0.1603 - accuracy: 0.9585 - val_loss: 0.7110 - val_accuracy: 0.6486\n",
            "Epoch 4/50\n",
            "80/80 [==============================] - 2s 26ms/step - loss: 0.0970 - accuracy: 0.9696 - val_loss: 0.7762 - val_accuracy: 0.6324\n",
            "Epoch 5/50\n",
            "80/80 [==============================] - 2s 18ms/step - loss: 0.0713 - accuracy: 0.9691 - val_loss: 0.8219 - val_accuracy: 0.6568\n",
            "Epoch 6/50\n",
            "80/80 [==============================] - 2s 29ms/step - loss: 0.0674 - accuracy: 0.9701 - val_loss: 0.8443 - val_accuracy: 0.6189\n",
            "Epoch 7/50\n",
            "80/80 [==============================] - 2s 23ms/step - loss: 0.0575 - accuracy: 0.9747 - val_loss: 0.8858 - val_accuracy: 0.6270\n",
            "Epoch 8/50\n",
            "80/80 [==============================] - 1s 10ms/step - loss: 0.0524 - accuracy: 0.9742 - val_loss: 0.8913 - val_accuracy: 0.6243\n",
            "Epoch 9/50\n",
            "80/80 [==============================] - 1s 18ms/step - loss: 0.0515 - accuracy: 0.9737 - val_loss: 0.9187 - val_accuracy: 0.6054\n",
            "Epoch 10/50\n",
            "80/80 [==============================] - 1s 14ms/step - loss: 0.0509 - accuracy: 0.9757 - val_loss: 0.9323 - val_accuracy: 0.6108\n",
            "Epoch 11/50\n",
            "80/80 [==============================] - 1s 8ms/step - loss: 0.0616 - accuracy: 0.9676 - val_loss: 0.9519 - val_accuracy: 0.5811\n",
            "Epoch 12/50\n",
            "80/80 [==============================] - 1s 10ms/step - loss: 0.0481 - accuracy: 0.9742 - val_loss: 0.9763 - val_accuracy: 0.5838\n",
            "Epoch 13/50\n",
            "80/80 [==============================] - 1s 10ms/step - loss: 0.0467 - accuracy: 0.9742 - val_loss: 0.9987 - val_accuracy: 0.6162\n",
            "Epoch 14/50\n",
            "80/80 [==============================] - 1s 8ms/step - loss: 0.0472 - accuracy: 0.9727 - val_loss: 1.0104 - val_accuracy: 0.5919\n",
            "Epoch 15/50\n",
            "80/80 [==============================] - 1s 10ms/step - loss: 0.0452 - accuracy: 0.9732 - val_loss: 1.0274 - val_accuracy: 0.5865\n",
            "Epoch 16/50\n",
            "80/80 [==============================] - 1s 6ms/step - loss: 0.0467 - accuracy: 0.9762 - val_loss: 1.0408 - val_accuracy: 0.5811\n",
            "Epoch 17/50\n",
            "80/80 [==============================] - 1s 11ms/step - loss: 0.0453 - accuracy: 0.9762 - val_loss: 1.0547 - val_accuracy: 0.5946\n",
            "Epoch 18/50\n",
            "80/80 [==============================] - 1s 10ms/step - loss: 0.0458 - accuracy: 0.9767 - val_loss: 1.0746 - val_accuracy: 0.5784\n",
            "Epoch 19/50\n",
            "80/80 [==============================] - 2s 22ms/step - loss: 0.0467 - accuracy: 0.9747 - val_loss: 1.0897 - val_accuracy: 0.5784\n",
            "Epoch 20/50\n",
            "80/80 [==============================] - 1s 6ms/step - loss: 0.0455 - accuracy: 0.9752 - val_loss: 1.0964 - val_accuracy: 0.5919\n",
            "Epoch 21/50\n",
            "80/80 [==============================] - 0s 6ms/step - loss: 0.0448 - accuracy: 0.9732 - val_loss: 1.1145 - val_accuracy: 0.5973\n",
            "Epoch 22/50\n",
            "80/80 [==============================] - 0s 6ms/step - loss: 0.0453 - accuracy: 0.9747 - val_loss: 1.1288 - val_accuracy: 0.5838\n",
            "Epoch 23/50\n",
            "80/80 [==============================] - 1s 8ms/step - loss: 0.0444 - accuracy: 0.9752 - val_loss: 1.1305 - val_accuracy: 0.5838\n",
            "Epoch 24/50\n",
            "80/80 [==============================] - 1s 8ms/step - loss: 0.0464 - accuracy: 0.9752 - val_loss: 1.1317 - val_accuracy: 0.6027\n",
            "Epoch 25/50\n",
            "80/80 [==============================] - 0s 6ms/step - loss: 0.0447 - accuracy: 0.9747 - val_loss: 1.1521 - val_accuracy: 0.5784\n",
            "Epoch 26/50\n",
            "80/80 [==============================] - 0s 6ms/step - loss: 0.0455 - accuracy: 0.9767 - val_loss: 1.1807 - val_accuracy: 0.5892\n",
            "Epoch 27/50\n",
            "80/80 [==============================] - 1s 10ms/step - loss: 0.0456 - accuracy: 0.9742 - val_loss: 1.1758 - val_accuracy: 0.5730\n",
            "Epoch 28/50\n",
            "80/80 [==============================] - 1s 10ms/step - loss: 0.0429 - accuracy: 0.9777 - val_loss: 1.1851 - val_accuracy: 0.5919\n",
            "Epoch 29/50\n",
            "80/80 [==============================] - 1s 8ms/step - loss: 0.0445 - accuracy: 0.9747 - val_loss: 1.1841 - val_accuracy: 0.5784\n",
            "Epoch 30/50\n",
            "80/80 [==============================] - 0s 6ms/step - loss: 0.0431 - accuracy: 0.9772 - val_loss: 1.2073 - val_accuracy: 0.5973\n",
            "Epoch 31/50\n",
            "80/80 [==============================] - 1s 6ms/step - loss: 0.0434 - accuracy: 0.9757 - val_loss: 1.2005 - val_accuracy: 0.6054\n",
            "Epoch 32/50\n",
            "80/80 [==============================] - 0s 6ms/step - loss: 0.0455 - accuracy: 0.9722 - val_loss: 1.2413 - val_accuracy: 0.5730\n",
            "Epoch 33/50\n",
            "80/80 [==============================] - 0s 6ms/step - loss: 0.0552 - accuracy: 0.9787 - val_loss: 1.3945 - val_accuracy: 0.5351\n",
            "Epoch 34/50\n",
            "80/80 [==============================] - 0s 6ms/step - loss: 0.0566 - accuracy: 0.9762 - val_loss: 1.3471 - val_accuracy: 0.5270\n",
            "Epoch 35/50\n",
            "80/80 [==============================] - 0s 4ms/step - loss: 0.0534 - accuracy: 0.9732 - val_loss: 1.3190 - val_accuracy: 0.5324\n",
            "Epoch 36/50\n",
            "80/80 [==============================] - 0s 4ms/step - loss: 0.0513 - accuracy: 0.9732 - val_loss: 1.3037 - val_accuracy: 0.5405\n",
            "Epoch 37/50\n",
            "80/80 [==============================] - 0s 4ms/step - loss: 0.0485 - accuracy: 0.9757 - val_loss: 1.2890 - val_accuracy: 0.5405\n",
            "Epoch 38/50\n",
            "80/80 [==============================] - 0s 6ms/step - loss: 0.0448 - accuracy: 0.9762 - val_loss: 1.2811 - val_accuracy: 0.5405\n",
            "Epoch 39/50\n",
            "80/80 [==============================] - 1s 10ms/step - loss: 0.0440 - accuracy: 0.9732 - val_loss: 1.2892 - val_accuracy: 0.5351\n",
            "Epoch 40/50\n",
            "80/80 [==============================] - 0s 6ms/step - loss: 0.0448 - accuracy: 0.9757 - val_loss: 1.2980 - val_accuracy: 0.5324\n",
            "Epoch 41/50\n",
            "80/80 [==============================] - 0s 6ms/step - loss: 0.0430 - accuracy: 0.9747 - val_loss: 1.3352 - val_accuracy: 0.5378\n",
            "Epoch 42/50\n",
            "80/80 [==============================] - 1s 10ms/step - loss: 0.0440 - accuracy: 0.9767 - val_loss: 1.3280 - val_accuracy: 0.5324\n",
            "Epoch 43/50\n",
            "80/80 [==============================] - 0s 5ms/step - loss: 0.0419 - accuracy: 0.9762 - val_loss: 1.3587 - val_accuracy: 0.5378\n",
            "Epoch 44/50\n",
            "80/80 [==============================] - 1s 10ms/step - loss: 0.0438 - accuracy: 0.9757 - val_loss: 1.3469 - val_accuracy: 0.5351\n",
            "Epoch 45/50\n",
            "80/80 [==============================] - 1s 8ms/step - loss: 0.0460 - accuracy: 0.9757 - val_loss: 1.3505 - val_accuracy: 0.5351\n",
            "Epoch 46/50\n",
            "80/80 [==============================] - 0s 4ms/step - loss: 0.0436 - accuracy: 0.9712 - val_loss: 1.3791 - val_accuracy: 0.5378\n",
            "Epoch 47/50\n",
            "80/80 [==============================] - 0s 6ms/step - loss: 0.0438 - accuracy: 0.9742 - val_loss: 1.3769 - val_accuracy: 0.5405\n",
            "Epoch 48/50\n",
            "80/80 [==============================] - 0s 4ms/step - loss: 0.0433 - accuracy: 0.9752 - val_loss: 1.3986 - val_accuracy: 0.5324\n",
            "Epoch 49/50\n",
            "80/80 [==============================] - 1s 14ms/step - loss: 0.0442 - accuracy: 0.9772 - val_loss: 1.4237 - val_accuracy: 0.5486\n",
            "Epoch 50/50\n",
            "80/80 [==============================] - 1s 10ms/step - loss: 0.0444 - accuracy: 0.9762 - val_loss: 1.4484 - val_accuracy: 0.5405\n"
          ]
        }
      ],
      "source": [
        "# Обучение модели сверточной нейронной сети подготовленных данных\n",
        "\n",
        "store_learning = model.fit(worker.x_trainE,\n",
        "                           worker.y_train,\n",
        "                           validation_data=(worker.x_testE, worker.y_val),\n",
        "                           shuffle=True,\n",
        "                           batch_size=25,\n",
        "                           epochs=50, \n",
        "                           verbose=1)"
      ]
    },
    {
      "cell_type": "code",
      "execution_count": null,
      "metadata": {
        "colab": {
          "base_uri": "https://localhost:8080/",
          "height": 538
        },
        "outputId": "86101cf2-8bac-4632-e073-0a86db348364",
        "id": "FRMN25yQe2NJ"
      },
      "outputs": [
        {
          "output_type": "stream",
          "name": "stdout",
          "text": [
            "График обучения:\n"
          ]
        },
        {
          "output_type": "display_data",
          "data": {
            "text/plain": [
              "<Figure size 864x576 with 1 Axes>"
            ],
            "image/png": "[encoded data removed]"
          },
          "metadata": {}
        },
        {
          "output_type": "stream",
          "name": "stdout",
          "text": [
            "Максимальная точность на обучающей выборке: 0.979\n",
            "Максимальная точность на проверочной выборке: 0.657\n"
          ]
        }
      ],
      "source": [
        "worker.show_learning_information(store_learning)"
      ]
    },
    {
      "cell_type": "markdown",
      "metadata": {
        "id": "r6APJqBae2NJ"
      },
      "source": [
        "**Несколько запусков**"
      ]
    },
    {
      "cell_type": "code",
      "execution_count": null,
      "metadata": {
        "colab": {
          "base_uri": "https://localhost:8080/"
        },
        "id": "fm6KDdTse2NJ",
        "outputId": "b6e2a810-0202-4681-8bbd-0e9b303939dc"
      },
      "outputs": [
        {
          "output_type": "stream",
          "name": "stdout",
          "text": [
            "\u001b[1m\u001b[94mОбучение №1 завершено. Результаты\u001b[0m\n",
            "Максимальная точность на обучающей выборке: 0.977\n",
            "Максимальная точность на проверочной выборке: 0.654\n",
            "\n",
            "\n",
            "\n",
            "\n",
            "\u001b[1m\u001b[94mОбучение №2 завершено. Результаты\u001b[0m\n",
            "Максимальная точность на обучающей выборке: 0.977\n",
            "Максимальная точность на проверочной выборке: 0.681\n",
            "\n",
            "\n",
            "\n",
            "\n",
            "\u001b[1m\u001b[94mОбучение №3 завершено. Результаты\u001b[0m\n",
            "Максимальная точность на обучающей выборке: 0.977\n",
            "Максимальная точность на проверочной выборке: 0.638\n",
            "\n",
            "\n",
            "\n",
            "\n",
            "\u001b[1m\u001b[94mОбучение №4 завершено. Результаты\u001b[0m\n",
            "Максимальная точность на обучающей выборке: 0.978\n",
            "Максимальная точность на проверочной выборке: 0.7\n",
            "\n",
            "\n",
            "\n",
            "\n",
            "\u001b[1m\u001b[94mОбучение №5 завершено. Результаты\u001b[0m\n",
            "Максимальная точность на обучающей выборке: 0.978\n",
            "Максимальная точность на проверочной выборке: 0.681\n",
            "\n",
            "\n",
            "\n",
            "\n",
            "\u001b[1m###############################################################################\u001b[0m\n",
            "\u001b[95m Финальные результаты\u001b[0m\n",
            "Средняя точность на обучающей выборке: 0.977\n",
            "Максимальная точность на обучающей выборке: 0.978\n",
            "Средняя точность на проверочной выборке: 0.671\n",
            "Максимальная точность на проверочной выборке: 0.7\n"
          ]
        }
      ],
      "source": [
        "worker.train_model(\n",
        "    funcModel=create_model,\n",
        "    count=5,\n",
        "    train_data=worker.x_trainE,\n",
        "    test_data=worker.x_testE)"
      ]
    },
    {
      "cell_type": "markdown",
      "source": [
        "### **Эксп. №9 (Embedding: меняем Flatten на GlobalMaxPooling) (64.3%)**"
      ],
      "metadata": {
        "id": "vU-r7puutu-3"
      }
    },
    {
      "cell_type": "code",
      "execution_count": null,
      "metadata": {
        "id": "S39GOQ0xtu-4"
      },
      "outputs": [],
      "source": [
        "def create_model():\n",
        "  model = Sequential()\n",
        "  model.add(Embedding(max_words_count, 128, input_length=padding_length))\n",
        "  model.add(GlobalMaxPooling1D())\n",
        "  model.add(Dense(1, activation='sigmoid'))\n",
        "\n",
        "  model.compile(optimizer=Adam(2e-3), loss='binary_crossentropy', metrics=['accuracy'])\n",
        "\n",
        "  # Компиляция модели\n",
        "  return model\n",
        "\n",
        "model = create_model()"
      ]
    },
    {
      "cell_type": "code",
      "execution_count": null,
      "metadata": {
        "colab": {
          "base_uri": "https://localhost:8080/"
        },
        "outputId": "bf630f5f-8e4d-4444-cad2-ccfea19afa43",
        "id": "dfx5paZwtu-5"
      },
      "outputs": [
        {
          "output_type": "stream",
          "name": "stdout",
          "text": [
            "Epoch 1/50\n",
            "80/80 [==============================] - 8s 93ms/step - loss: 0.6664 - accuracy: 0.5825 - val_loss: 0.6509 - val_accuracy: 0.6351\n",
            "Epoch 2/50\n",
            "80/80 [==============================] - 4s 49ms/step - loss: 0.5745 - accuracy: 0.7196 - val_loss: 0.6714 - val_accuracy: 0.6000\n",
            "Epoch 3/50\n",
            "80/80 [==============================] - 3s 39ms/step - loss: 0.4191 - accuracy: 0.8750 - val_loss: 0.6939 - val_accuracy: 0.5892\n",
            "Epoch 4/50\n",
            "80/80 [==============================] - 3s 32ms/step - loss: 0.2886 - accuracy: 0.9089 - val_loss: 0.7209 - val_accuracy: 0.5784\n",
            "Epoch 5/50\n",
            "80/80 [==============================] - 1s 11ms/step - loss: 0.2037 - accuracy: 0.9388 - val_loss: 0.7693 - val_accuracy: 0.5703\n",
            "Epoch 6/50\n",
            "80/80 [==============================] - 1s 18ms/step - loss: 0.1498 - accuracy: 0.9560 - val_loss: 0.7936 - val_accuracy: 0.5784\n",
            "Epoch 7/50\n",
            "80/80 [==============================] - 1s 15ms/step - loss: 0.1143 - accuracy: 0.9671 - val_loss: 0.8336 - val_accuracy: 0.5757\n",
            "Epoch 8/50\n",
            "80/80 [==============================] - 1s 15ms/step - loss: 0.0932 - accuracy: 0.9686 - val_loss: 0.8557 - val_accuracy: 0.6054\n",
            "Epoch 9/50\n",
            "80/80 [==============================] - 0s 6ms/step - loss: 0.0789 - accuracy: 0.9701 - val_loss: 0.8801 - val_accuracy: 0.5973\n",
            "Epoch 10/50\n",
            "80/80 [==============================] - 1s 17ms/step - loss: 0.0728 - accuracy: 0.9691 - val_loss: 0.9111 - val_accuracy: 0.6000\n",
            "Epoch 11/50\n",
            "80/80 [==============================] - 3s 36ms/step - loss: 0.0653 - accuracy: 0.9717 - val_loss: 0.9375 - val_accuracy: 0.6081\n",
            "Epoch 12/50\n",
            "80/80 [==============================] - 2s 19ms/step - loss: 0.0614 - accuracy: 0.9706 - val_loss: 0.9521 - val_accuracy: 0.6054\n",
            "Epoch 13/50\n",
            "80/80 [==============================] - 1s 18ms/step - loss: 0.0659 - accuracy: 0.9626 - val_loss: 0.9693 - val_accuracy: 0.6189\n",
            "Epoch 14/50\n",
            "80/80 [==============================] - 1s 18ms/step - loss: 0.0577 - accuracy: 0.9712 - val_loss: 0.9808 - val_accuracy: 0.6351\n",
            "Epoch 15/50\n",
            "80/80 [==============================] - 1s 17ms/step - loss: 0.0558 - accuracy: 0.9701 - val_loss: 1.0073 - val_accuracy: 0.6162\n",
            "Epoch 16/50\n",
            "80/80 [==============================] - 1s 14ms/step - loss: 0.0526 - accuracy: 0.9717 - val_loss: 1.0203 - val_accuracy: 0.6216\n",
            "Epoch 17/50\n",
            "80/80 [==============================] - 1s 11ms/step - loss: 0.0527 - accuracy: 0.9722 - val_loss: 1.0393 - val_accuracy: 0.6216\n",
            "Epoch 18/50\n",
            "80/80 [==============================] - 1s 16ms/step - loss: 0.0516 - accuracy: 0.9686 - val_loss: 1.0507 - val_accuracy: 0.6297\n",
            "Epoch 19/50\n",
            "80/80 [==============================] - 1s 15ms/step - loss: 0.0497 - accuracy: 0.9747 - val_loss: 1.0647 - val_accuracy: 0.6270\n",
            "Epoch 20/50\n",
            "80/80 [==============================] - 1s 10ms/step - loss: 0.0508 - accuracy: 0.9691 - val_loss: 1.0815 - val_accuracy: 0.6243\n",
            "Epoch 21/50\n",
            "80/80 [==============================] - 2s 21ms/step - loss: 0.0501 - accuracy: 0.9712 - val_loss: 1.0997 - val_accuracy: 0.6270\n",
            "Epoch 22/50\n",
            "80/80 [==============================] - 1s 10ms/step - loss: 0.0494 - accuracy: 0.9706 - val_loss: 1.1062 - val_accuracy: 0.6297\n",
            "Epoch 23/50\n",
            "80/80 [==============================] - 1s 19ms/step - loss: 0.0484 - accuracy: 0.9712 - val_loss: 1.1129 - val_accuracy: 0.6459\n",
            "Epoch 24/50\n",
            "80/80 [==============================] - 1s 17ms/step - loss: 0.0488 - accuracy: 0.9701 - val_loss: 1.1289 - val_accuracy: 0.6351\n",
            "Epoch 25/50\n",
            "80/80 [==============================] - 1s 15ms/step - loss: 0.0498 - accuracy: 0.9681 - val_loss: 1.1418 - val_accuracy: 0.6486\n",
            "Epoch 26/50\n",
            "80/80 [==============================] - 1s 10ms/step - loss: 0.0485 - accuracy: 0.9686 - val_loss: 1.1651 - val_accuracy: 0.6270\n",
            "Epoch 27/50\n",
            "80/80 [==============================] - 1s 12ms/step - loss: 0.0557 - accuracy: 0.9712 - val_loss: 1.1709 - val_accuracy: 0.6324\n",
            "Epoch 28/50\n",
            "80/80 [==============================] - 0s 6ms/step - loss: 0.0479 - accuracy: 0.9712 - val_loss: 1.1645 - val_accuracy: 0.6324\n",
            "Epoch 29/50\n",
            "80/80 [==============================] - 1s 7ms/step - loss: 0.0481 - accuracy: 0.9762 - val_loss: 1.1714 - val_accuracy: 0.6432\n",
            "Epoch 30/50\n",
            "80/80 [==============================] - 0s 5ms/step - loss: 0.0577 - accuracy: 0.9691 - val_loss: 1.1759 - val_accuracy: 0.6351\n",
            "Epoch 31/50\n",
            "80/80 [==============================] - 0s 5ms/step - loss: 0.0475 - accuracy: 0.9701 - val_loss: 1.1931 - val_accuracy: 0.6270\n",
            "Epoch 32/50\n",
            "80/80 [==============================] - 1s 7ms/step - loss: 0.0465 - accuracy: 0.9717 - val_loss: 1.2154 - val_accuracy: 0.6216\n",
            "Epoch 33/50\n",
            "80/80 [==============================] - 0s 6ms/step - loss: 0.0555 - accuracy: 0.9742 - val_loss: 1.2150 - val_accuracy: 0.6216\n",
            "Epoch 34/50\n",
            "80/80 [==============================] - 0s 6ms/step - loss: 0.0483 - accuracy: 0.9747 - val_loss: 1.2021 - val_accuracy: 0.6297\n",
            "Epoch 35/50\n",
            "80/80 [==============================] - 1s 6ms/step - loss: 0.0465 - accuracy: 0.9717 - val_loss: 1.2111 - val_accuracy: 0.6243\n",
            "Epoch 36/50\n",
            "80/80 [==============================] - 1s 7ms/step - loss: 0.0460 - accuracy: 0.9757 - val_loss: 1.2162 - val_accuracy: 0.6270\n",
            "Epoch 37/50\n",
            "80/80 [==============================] - 0s 6ms/step - loss: 0.0469 - accuracy: 0.9712 - val_loss: 1.2276 - val_accuracy: 0.6189\n",
            "Epoch 38/50\n",
            "80/80 [==============================] - 1s 9ms/step - loss: 0.0486 - accuracy: 0.9737 - val_loss: 1.2225 - val_accuracy: 0.6351\n",
            "Epoch 39/50\n",
            "80/80 [==============================] - 1s 10ms/step - loss: 0.0477 - accuracy: 0.9701 - val_loss: 1.2448 - val_accuracy: 0.6162\n",
            "Epoch 40/50\n",
            "80/80 [==============================] - 0s 5ms/step - loss: 0.0468 - accuracy: 0.9737 - val_loss: 1.2528 - val_accuracy: 0.6243\n",
            "Epoch 41/50\n",
            "80/80 [==============================] - 0s 4ms/step - loss: 0.0465 - accuracy: 0.9722 - val_loss: 1.2539 - val_accuracy: 0.6351\n",
            "Epoch 42/50\n",
            "80/80 [==============================] - 0s 4ms/step - loss: 0.0464 - accuracy: 0.9706 - val_loss: 1.2609 - val_accuracy: 0.6270\n",
            "Epoch 43/50\n",
            "80/80 [==============================] - 1s 8ms/step - loss: 0.0463 - accuracy: 0.9737 - val_loss: 1.2815 - val_accuracy: 0.6216\n",
            "Epoch 44/50\n",
            "80/80 [==============================] - 0s 6ms/step - loss: 0.0450 - accuracy: 0.9732 - val_loss: 1.2805 - val_accuracy: 0.6243\n",
            "Epoch 45/50\n",
            "80/80 [==============================] - 1s 8ms/step - loss: 0.0459 - accuracy: 0.9681 - val_loss: 1.2834 - val_accuracy: 0.6270\n",
            "Epoch 46/50\n",
            "80/80 [==============================] - 0s 4ms/step - loss: 0.0456 - accuracy: 0.9722 - val_loss: 1.3053 - val_accuracy: 0.6216\n",
            "Epoch 47/50\n",
            "80/80 [==============================] - 1s 7ms/step - loss: 0.0450 - accuracy: 0.9727 - val_loss: 1.3103 - val_accuracy: 0.6216\n",
            "Epoch 48/50\n",
            "80/80 [==============================] - 0s 5ms/step - loss: 0.0453 - accuracy: 0.9747 - val_loss: 1.3203 - val_accuracy: 0.6216\n",
            "Epoch 49/50\n",
            "80/80 [==============================] - 0s 6ms/step - loss: 0.0445 - accuracy: 0.9747 - val_loss: 1.3159 - val_accuracy: 0.6432\n",
            "Epoch 50/50\n",
            "80/80 [==============================] - 0s 4ms/step - loss: 0.0453 - accuracy: 0.9737 - val_loss: 1.3324 - val_accuracy: 0.6243\n"
          ]
        }
      ],
      "source": [
        "# Обучение модели сверточной нейронной сети подготовленных данных\n",
        "\n",
        "store_learning = model.fit(worker.x_trainE,\n",
        "                           worker.y_train,\n",
        "                           validation_data=(worker.x_testE, worker.y_val),\n",
        "                           shuffle=True,\n",
        "                           batch_size=25,\n",
        "                           epochs=50, \n",
        "                           verbose=1)"
      ]
    },
    {
      "cell_type": "code",
      "execution_count": null,
      "metadata": {
        "colab": {
          "base_uri": "https://localhost:8080/",
          "height": 535
        },
        "outputId": "8a7a0dd6-ec4a-4724-8dbd-8484875a8a2e",
        "id": "mPS3sGAutu-6"
      },
      "outputs": [
        {
          "output_type": "stream",
          "name": "stdout",
          "text": [
            "График обучения:\n"
          ]
        },
        {
          "output_type": "display_data",
          "data": {
            "text/plain": [
              "<Figure size 864x576 with 1 Axes>"
            ],
            "image/png": "[encoded data removed]"
          },
          "metadata": {}
        },
        {
          "output_type": "stream",
          "name": "stdout",
          "text": [
            "Максимальная точность на обучающей выборке: 0.976\n",
            "Максимальная точность на проверочной выборке: 0.649\n"
          ]
        }
      ],
      "source": [
        "worker.show_learning_information(store_learning)"
      ]
    },
    {
      "cell_type": "markdown",
      "metadata": {
        "id": "RLdUCGcOtu-6"
      },
      "source": [
        "**Несколько запусков**"
      ]
    },
    {
      "cell_type": "code",
      "execution_count": null,
      "metadata": {
        "colab": {
          "base_uri": "https://localhost:8080/"
        },
        "id": "KmogmMaMtu-6",
        "outputId": "2963bbb8-619a-4d4f-d2d1-a638349888b5"
      },
      "outputs": [
        {
          "output_type": "stream",
          "name": "stdout",
          "text": [
            "\u001b[1m\u001b[94mОбучение №1 завершено. Результаты\u001b[0m\n",
            "Максимальная точность на обучающей выборке: 0.975\n",
            "Максимальная точность на проверочной выборке: 0.635\n",
            "\n",
            "\n",
            "\n",
            "\n",
            "\u001b[1m\u001b[94mОбучение №2 завершено. Результаты\u001b[0m\n",
            "Максимальная точность на обучающей выборке: 0.975\n",
            "Максимальная точность на проверочной выборке: 0.635\n",
            "\n",
            "\n",
            "\n",
            "\n",
            "\u001b[1m\u001b[94mОбучение №3 завершено. Результаты\u001b[0m\n",
            "Максимальная точность на обучающей выборке: 0.975\n",
            "Максимальная точность на проверочной выборке: 0.635\n",
            "\n",
            "\n",
            "\n",
            "\n",
            "\u001b[1m\u001b[94mОбучение №4 завершено. Результаты\u001b[0m\n",
            "Максимальная точность на обучающей выборке: 0.976\n",
            "Максимальная точность на проверочной выборке: 0.643\n",
            "\n",
            "\n",
            "\n",
            "\n",
            "\u001b[1m\u001b[94mОбучение №5 завершено. Результаты\u001b[0m\n",
            "Максимальная точность на обучающей выборке: 0.976\n",
            "Максимальная точность на проверочной выборке: 0.635\n",
            "\n",
            "\n",
            "\n",
            "\n",
            "\u001b[1m###############################################################################\u001b[0m\n",
            "\u001b[95m Финальные результаты\u001b[0m\n",
            "Средняя точность на обучающей выборке: 0.975\n",
            "Максимальная точность на обучающей выборке: 0.976\n",
            "Средняя точность на проверочной выборке: 0.637\n",
            "Максимальная точность на проверочной выборке: 0.643\n"
          ]
        }
      ],
      "source": [
        "worker.train_model(\n",
        "    funcModel=create_model,\n",
        "    count=5,\n",
        "    train_data=worker.x_trainE,\n",
        "    test_data=worker.x_testE)"
      ]
    }
  ],
  "metadata": {
    "colab": {
      "provenance": [],
      "collapsed_sections": [
        "cqvDOUOimfzk",
        "DfuIuEaIYbjx",
        "IlDOmI6bYxBX",
        "4ipkvnINZNWJ",
        "syDcUgbsZk92",
        "2CwdlPjhd5Ty",
        "qDd-CCRA1p6L",
        "Aj7rLccZe2NH",
        "vU-r7puutu-3"
      ],
      "include_colab_link": true
    },
    "kernelspec": {
      "display_name": "Python 3",
      "name": "python3"
    },
    "language_info": {
      "name": "python"
    },
    "gpuClass": "standard",
    "accelerator": "GPU"
  },
  "nbformat": 4,
  "nbformat_minor": 0
}